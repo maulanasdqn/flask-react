{
 "cells": [
  {
   "cell_type": "markdown",
   "id": "85b17f61",
   "metadata": {},
   "source": [
    "# 1. Data Understanding"
   ]
  },
  {
   "cell_type": "code",
   "execution_count": 2,
   "id": "a2302bdc",
   "metadata": {},
   "outputs": [],
   "source": [
    "# import library yg dibutuhkan untuk menganalisis data\n",
    "import pandas as pd\n",
    "import numpy as np\n",
    "import matplotlib.pyplot as plt\n",
    "import seaborn as sns\n",
    "import pickle\n",
    "sns.set()"
   ]
  },
  {
   "cell_type": "code",
   "execution_count": 3,
   "id": "f53d5074",
   "metadata": {},
   "outputs": [],
   "source": [
    "# import dataset\n",
    "df = pd.read_excel('dataset/Data pegawai.xlsx')"
   ]
  },
  {
   "cell_type": "code",
   "execution_count": 4,
   "id": "c10146da",
   "metadata": {},
   "outputs": [
    {
     "data": {
      "text/html": [
       "<div>\n",
       "<style scoped>\n",
       "    .dataframe tbody tr th:only-of-type {\n",
       "        vertical-align: middle;\n",
       "    }\n",
       "\n",
       "    .dataframe tbody tr th {\n",
       "        vertical-align: top;\n",
       "    }\n",
       "\n",
       "    .dataframe thead th {\n",
       "        text-align: right;\n",
       "    }\n",
       "</style>\n",
       "<table border=\"1\" class=\"dataframe\">\n",
       "  <thead>\n",
       "    <tr style=\"text-align: right;\">\n",
       "      <th></th>\n",
       "      <th>NAMA</th>\n",
       "      <th>JENIS KELAMIN</th>\n",
       "      <th>TEMPAT LAHIR</th>\n",
       "      <th>PENDIDIKAN</th>\n",
       "      <th>NO.HP</th>\n",
       "      <th>JABATAN</th>\n",
       "      <th>PENEMPATAN</th>\n",
       "      <th>LAMA KERJA</th>\n",
       "      <th>KEHADIRAN</th>\n",
       "      <th>SIKAP</th>\n",
       "      <th>TANGGUNG JAWAB</th>\n",
       "      <th>PENCAPAIAN</th>\n",
       "      <th>KEPUTUSAN</th>\n",
       "    </tr>\n",
       "  </thead>\n",
       "  <tbody>\n",
       "    <tr>\n",
       "      <th>0</th>\n",
       "      <td>IRMA PURNAMASARI, S.Pd</td>\n",
       "      <td>PEREMUPUAN</td>\n",
       "      <td>SERANG</td>\n",
       "      <td>S1</td>\n",
       "      <td>082116629933</td>\n",
       "      <td>PPNPN KEUANGAN</td>\n",
       "      <td>Umum</td>\n",
       "      <td>5 Tahun</td>\n",
       "      <td>100</td>\n",
       "      <td>80</td>\n",
       "      <td>90</td>\n",
       "      <td>100</td>\n",
       "      <td>PERPANJANGAN KONTRAK</td>\n",
       "    </tr>\n",
       "    <tr>\n",
       "      <th>1</th>\n",
       "      <td>YOYO RUHYANA</td>\n",
       "      <td>LAKI-LAKI</td>\n",
       "      <td>SUMEDANG</td>\n",
       "      <td>SMK</td>\n",
       "      <td>085724324763</td>\n",
       "      <td>Security</td>\n",
       "      <td>Umum</td>\n",
       "      <td>5 Tahun</td>\n",
       "      <td>80</td>\n",
       "      <td>93</td>\n",
       "      <td>98</td>\n",
       "      <td>100</td>\n",
       "      <td>PERPANJANGAN KONTRAK</td>\n",
       "    </tr>\n",
       "    <tr>\n",
       "      <th>2</th>\n",
       "      <td>RULI MULYANA</td>\n",
       "      <td>LAKI-LAKI</td>\n",
       "      <td>CIANJUR</td>\n",
       "      <td>SMK</td>\n",
       "      <td>085732240290</td>\n",
       "      <td>Security</td>\n",
       "      <td>Umum</td>\n",
       "      <td>5 Tahun</td>\n",
       "      <td>84</td>\n",
       "      <td>88</td>\n",
       "      <td>90</td>\n",
       "      <td>100</td>\n",
       "      <td>PERPANJANGAN KONTRAK</td>\n",
       "    </tr>\n",
       "    <tr>\n",
       "      <th>3</th>\n",
       "      <td>RAMDAN GELAR FIRMANSYAH</td>\n",
       "      <td>LAKI-LAKI</td>\n",
       "      <td>SUMEDANG</td>\n",
       "      <td>SMK</td>\n",
       "      <td>08882007824</td>\n",
       "      <td>Pramubakti</td>\n",
       "      <td>Umum</td>\n",
       "      <td>5 Tahun</td>\n",
       "      <td>80</td>\n",
       "      <td>90</td>\n",
       "      <td>87</td>\n",
       "      <td>100</td>\n",
       "      <td>PERPANJANGAN KONTRAK</td>\n",
       "    </tr>\n",
       "    <tr>\n",
       "      <th>4</th>\n",
       "      <td>ENTIS HERYANA</td>\n",
       "      <td>LAKI-LAKI</td>\n",
       "      <td>SUMEDANG</td>\n",
       "      <td>SMK</td>\n",
       "      <td>082119793904</td>\n",
       "      <td>KOORDINATOR SECURITY</td>\n",
       "      <td>Umum</td>\n",
       "      <td>5 Tahun</td>\n",
       "      <td>82</td>\n",
       "      <td>89</td>\n",
       "      <td>82</td>\n",
       "      <td>100</td>\n",
       "      <td>PERPANJANGAN KONTRAK</td>\n",
       "    </tr>\n",
       "    <tr>\n",
       "      <th>...</th>\n",
       "      <td>...</td>\n",
       "      <td>...</td>\n",
       "      <td>...</td>\n",
       "      <td>...</td>\n",
       "      <td>...</td>\n",
       "      <td>...</td>\n",
       "      <td>...</td>\n",
       "      <td>...</td>\n",
       "      <td>...</td>\n",
       "      <td>...</td>\n",
       "      <td>...</td>\n",
       "      <td>...</td>\n",
       "      <td>...</td>\n",
       "    </tr>\n",
       "    <tr>\n",
       "      <th>315</th>\n",
       "      <td>EPA NOPIANI</td>\n",
       "      <td>PEREMUPUAN</td>\n",
       "      <td>SUMEDANG</td>\n",
       "      <td>SMK</td>\n",
       "      <td>081563955292</td>\n",
       "      <td>Petugas Pascarehabilitasi</td>\n",
       "      <td>Rehabilitasi</td>\n",
       "      <td>2 Tahun</td>\n",
       "      <td>85</td>\n",
       "      <td>91</td>\n",
       "      <td>98</td>\n",
       "      <td>100</td>\n",
       "      <td>PERPANJANGAN KONTRAK</td>\n",
       "    </tr>\n",
       "    <tr>\n",
       "      <th>316</th>\n",
       "      <td>SILMA LESTARI NOFIANDI</td>\n",
       "      <td>PEREMUPUAN</td>\n",
       "      <td>SUMEDANG</td>\n",
       "      <td>SMK</td>\n",
       "      <td>081395563401</td>\n",
       "      <td>Petugas Pascarehabilitasi</td>\n",
       "      <td>Rehabilitasi</td>\n",
       "      <td>2 Tahun</td>\n",
       "      <td>80</td>\n",
       "      <td>93</td>\n",
       "      <td>84</td>\n",
       "      <td>100</td>\n",
       "      <td>PERPANJANGAN KONTRAK</td>\n",
       "    </tr>\n",
       "    <tr>\n",
       "      <th>317</th>\n",
       "      <td>BUDI HARYANTO</td>\n",
       "      <td>LAKI-LAKI</td>\n",
       "      <td>SUMEDANG</td>\n",
       "      <td>SMK</td>\n",
       "      <td>087744677582</td>\n",
       "      <td>Petugas Pascarehabilitasi</td>\n",
       "      <td>Rehabilitasi</td>\n",
       "      <td>2 Tahun</td>\n",
       "      <td>70</td>\n",
       "      <td>70</td>\n",
       "      <td>60</td>\n",
       "      <td>70</td>\n",
       "      <td>DIBERHENTIKAN</td>\n",
       "    </tr>\n",
       "    <tr>\n",
       "      <th>318</th>\n",
       "      <td>HERYANI</td>\n",
       "      <td>PEREMUPUAN</td>\n",
       "      <td>SUMEDANG</td>\n",
       "      <td>SMK</td>\n",
       "      <td>081387357404</td>\n",
       "      <td>Staf Perencanaan</td>\n",
       "      <td>Umum</td>\n",
       "      <td>2 Tahun</td>\n",
       "      <td>71</td>\n",
       "      <td>72</td>\n",
       "      <td>60</td>\n",
       "      <td>60</td>\n",
       "      <td>DIBERHENTIKAN</td>\n",
       "    </tr>\n",
       "    <tr>\n",
       "      <th>319</th>\n",
       "      <td>USEP BADRUN</td>\n",
       "      <td>LAKI-LAKI</td>\n",
       "      <td>SUMEDANG</td>\n",
       "      <td>D3</td>\n",
       "      <td>08815884246</td>\n",
       "      <td>Staf Penerimaan</td>\n",
       "      <td>Umum</td>\n",
       "      <td>2 Tahun</td>\n",
       "      <td>90</td>\n",
       "      <td>95</td>\n",
       "      <td>82</td>\n",
       "      <td>100</td>\n",
       "      <td>PERPANJANGAN KONTRAK</td>\n",
       "    </tr>\n",
       "  </tbody>\n",
       "</table>\n",
       "<p>320 rows × 13 columns</p>\n",
       "</div>"
      ],
      "text/plain": [
       "                        NAMA JENIS KELAMIN TEMPAT LAHIR PENDIDIKAN  \\\n",
       "0     IRMA PURNAMASARI, S.Pd    PEREMUPUAN       SERANG         S1   \n",
       "1               YOYO RUHYANA     LAKI-LAKI     SUMEDANG        SMK   \n",
       "2               RULI MULYANA     LAKI-LAKI      CIANJUR        SMK   \n",
       "3    RAMDAN GELAR FIRMANSYAH     LAKI-LAKI     SUMEDANG        SMK   \n",
       "4              ENTIS HERYANA     LAKI-LAKI     SUMEDANG        SMK   \n",
       "..                       ...           ...          ...        ...   \n",
       "315              EPA NOPIANI    PEREMUPUAN     SUMEDANG        SMK   \n",
       "316   SILMA LESTARI NOFIANDI    PEREMUPUAN     SUMEDANG        SMK   \n",
       "317            BUDI HARYANTO     LAKI-LAKI     SUMEDANG        SMK   \n",
       "318                  HERYANI    PEREMUPUAN     SUMEDANG        SMK   \n",
       "319              USEP BADRUN     LAKI-LAKI     SUMEDANG         D3   \n",
       "\n",
       "            NO.HP                    JABATAN    PENEMPATAN LAMA KERJA  \\\n",
       "0    082116629933             PPNPN KEUANGAN          Umum    5 Tahun   \n",
       "1    085724324763                   Security          Umum    5 Tahun   \n",
       "2    085732240290                   Security          Umum    5 Tahun   \n",
       "3     08882007824                 Pramubakti          Umum    5 Tahun   \n",
       "4    082119793904       KOORDINATOR SECURITY          Umum    5 Tahun   \n",
       "..            ...                        ...           ...        ...   \n",
       "315  081563955292  Petugas Pascarehabilitasi  Rehabilitasi    2 Tahun   \n",
       "316  081395563401  Petugas Pascarehabilitasi  Rehabilitasi    2 Tahun   \n",
       "317  087744677582  Petugas Pascarehabilitasi  Rehabilitasi    2 Tahun   \n",
       "318  081387357404           Staf Perencanaan          Umum    2 Tahun   \n",
       "319   08815884246            Staf Penerimaan          Umum    2 Tahun   \n",
       "\n",
       "     KEHADIRAN  SIKAP  TANGGUNG JAWAB  PENCAPAIAN             KEPUTUSAN  \n",
       "0          100     80              90         100  PERPANJANGAN KONTRAK  \n",
       "1           80     93              98         100  PERPANJANGAN KONTRAK  \n",
       "2           84     88              90         100  PERPANJANGAN KONTRAK  \n",
       "3           80     90              87         100  PERPANJANGAN KONTRAK  \n",
       "4           82     89              82         100  PERPANJANGAN KONTRAK  \n",
       "..         ...    ...             ...         ...                   ...  \n",
       "315         85     91              98         100  PERPANJANGAN KONTRAK  \n",
       "316         80     93              84         100  PERPANJANGAN KONTRAK  \n",
       "317         70     70              60          70         DIBERHENTIKAN  \n",
       "318         71     72              60          60         DIBERHENTIKAN  \n",
       "319         90     95              82         100  PERPANJANGAN KONTRAK  \n",
       "\n",
       "[320 rows x 13 columns]"
      ]
     },
     "execution_count": 4,
     "metadata": {},
     "output_type": "execute_result"
    }
   ],
   "source": [
    "df"
   ]
  },
  {
   "cell_type": "markdown",
   "id": "50045388",
   "metadata": {},
   "source": [
    "# Data Preparation"
   ]
  },
  {
   "cell_type": "code",
   "execution_count": 4,
   "id": "99cc241b",
   "metadata": {},
   "outputs": [
    {
     "data": {
      "text/plain": [
       "NAMA              False\n",
       "JENIS KELAMIN     False\n",
       "TEMPAT LAHIR      False\n",
       "PENDIDIKAN        False\n",
       "NO.HP             False\n",
       "JABATAN           False\n",
       "PENEMPATAN        False\n",
       "LAMA KERJA        False\n",
       "KEHADIRAN         False\n",
       "SIKAP             False\n",
       "TANGGUNG JAWAB    False\n",
       "PENCAPAIAN        False\n",
       "KEPUTUSAN         False\n",
       "dtype: bool"
      ]
     },
     "execution_count": 4,
     "metadata": {},
     "output_type": "execute_result"
    }
   ],
   "source": [
    "# cek missing value\n",
    "df.isnull().any()"
   ]
  },
  {
   "cell_type": "code",
   "execution_count": 5,
   "id": "e23f3085",
   "metadata": {},
   "outputs": [
    {
     "name": "stdout",
     "output_type": "stream",
     "text": [
      "<class 'pandas.core.frame.DataFrame'>\n",
      "RangeIndex: 320 entries, 0 to 319\n",
      "Data columns (total 13 columns):\n",
      " #   Column          Non-Null Count  Dtype \n",
      "---  ------          --------------  ----- \n",
      " 0   NAMA            320 non-null    object\n",
      " 1   JENIS KELAMIN   320 non-null    object\n",
      " 2   TEMPAT LAHIR    320 non-null    object\n",
      " 3   PENDIDIKAN      320 non-null    object\n",
      " 4   NO.HP           320 non-null    object\n",
      " 5   JABATAN         320 non-null    object\n",
      " 6   PENEMPATAN      320 non-null    object\n",
      " 7   LAMA KERJA      320 non-null    object\n",
      " 8   KEHADIRAN       320 non-null    int64 \n",
      " 9   SIKAP           320 non-null    int64 \n",
      " 10  TANGGUNG JAWAB  320 non-null    int64 \n",
      " 11  PENCAPAIAN      320 non-null    int64 \n",
      " 12  KEPUTUSAN       320 non-null    object\n",
      "dtypes: int64(4), object(9)\n",
      "memory usage: 32.6+ KB\n"
     ]
    }
   ],
   "source": [
    "# info dari dataset\n",
    "df.info()"
   ]
  },
  {
   "cell_type": "markdown",
   "id": "72d7e6ea",
   "metadata": {},
   "source": [
    "# Drop kolom yang tidak diperlukan untuk test  (Cleansing)"
   ]
  },
  {
   "cell_type": "code",
   "execution_count": 6,
   "id": "4b7aaf40",
   "metadata": {},
   "outputs": [],
   "source": [
    "df.drop('NAMA', axis=1, inplace=True)\n",
    "df.drop('JENIS KELAMIN', axis=1, inplace=True)\n",
    "df.drop('TEMPAT LAHIR', axis=1, inplace=True)\n",
    "df.drop('PENDIDIKAN', axis=1, inplace=True)\n",
    "df.drop('NO.HP', axis=1, inplace=True)"
   ]
  },
  {
   "cell_type": "code",
   "execution_count": 7,
   "id": "5c682411",
   "metadata": {},
   "outputs": [
    {
     "data": {
      "text/html": [
       "<div>\n",
       "<style scoped>\n",
       "    .dataframe tbody tr th:only-of-type {\n",
       "        vertical-align: middle;\n",
       "    }\n",
       "\n",
       "    .dataframe tbody tr th {\n",
       "        vertical-align: top;\n",
       "    }\n",
       "\n",
       "    .dataframe thead th {\n",
       "        text-align: right;\n",
       "    }\n",
       "</style>\n",
       "<table border=\"1\" class=\"dataframe\">\n",
       "  <thead>\n",
       "    <tr style=\"text-align: right;\">\n",
       "      <th></th>\n",
       "      <th>JABATAN</th>\n",
       "      <th>PENEMPATAN</th>\n",
       "      <th>LAMA KERJA</th>\n",
       "      <th>KEHADIRAN</th>\n",
       "      <th>SIKAP</th>\n",
       "      <th>TANGGUNG JAWAB</th>\n",
       "      <th>PENCAPAIAN</th>\n",
       "      <th>KEPUTUSAN</th>\n",
       "    </tr>\n",
       "  </thead>\n",
       "  <tbody>\n",
       "    <tr>\n",
       "      <th>0</th>\n",
       "      <td>PPNPN KEUANGAN</td>\n",
       "      <td>Umum</td>\n",
       "      <td>5 Tahun</td>\n",
       "      <td>100</td>\n",
       "      <td>80</td>\n",
       "      <td>90</td>\n",
       "      <td>100</td>\n",
       "      <td>PERPANJANGAN KONTRAK</td>\n",
       "    </tr>\n",
       "    <tr>\n",
       "      <th>1</th>\n",
       "      <td>Security</td>\n",
       "      <td>Umum</td>\n",
       "      <td>5 Tahun</td>\n",
       "      <td>80</td>\n",
       "      <td>93</td>\n",
       "      <td>98</td>\n",
       "      <td>100</td>\n",
       "      <td>PERPANJANGAN KONTRAK</td>\n",
       "    </tr>\n",
       "    <tr>\n",
       "      <th>2</th>\n",
       "      <td>Security</td>\n",
       "      <td>Umum</td>\n",
       "      <td>5 Tahun</td>\n",
       "      <td>84</td>\n",
       "      <td>88</td>\n",
       "      <td>90</td>\n",
       "      <td>100</td>\n",
       "      <td>PERPANJANGAN KONTRAK</td>\n",
       "    </tr>\n",
       "    <tr>\n",
       "      <th>3</th>\n",
       "      <td>Pramubakti</td>\n",
       "      <td>Umum</td>\n",
       "      <td>5 Tahun</td>\n",
       "      <td>80</td>\n",
       "      <td>90</td>\n",
       "      <td>87</td>\n",
       "      <td>100</td>\n",
       "      <td>PERPANJANGAN KONTRAK</td>\n",
       "    </tr>\n",
       "    <tr>\n",
       "      <th>4</th>\n",
       "      <td>KOORDINATOR SECURITY</td>\n",
       "      <td>Umum</td>\n",
       "      <td>5 Tahun</td>\n",
       "      <td>82</td>\n",
       "      <td>89</td>\n",
       "      <td>82</td>\n",
       "      <td>100</td>\n",
       "      <td>PERPANJANGAN KONTRAK</td>\n",
       "    </tr>\n",
       "    <tr>\n",
       "      <th>...</th>\n",
       "      <td>...</td>\n",
       "      <td>...</td>\n",
       "      <td>...</td>\n",
       "      <td>...</td>\n",
       "      <td>...</td>\n",
       "      <td>...</td>\n",
       "      <td>...</td>\n",
       "      <td>...</td>\n",
       "    </tr>\n",
       "    <tr>\n",
       "      <th>315</th>\n",
       "      <td>Petugas Pascarehabilitasi</td>\n",
       "      <td>Rehabilitasi</td>\n",
       "      <td>2 Tahun</td>\n",
       "      <td>85</td>\n",
       "      <td>91</td>\n",
       "      <td>98</td>\n",
       "      <td>100</td>\n",
       "      <td>PERPANJANGAN KONTRAK</td>\n",
       "    </tr>\n",
       "    <tr>\n",
       "      <th>316</th>\n",
       "      <td>Petugas Pascarehabilitasi</td>\n",
       "      <td>Rehabilitasi</td>\n",
       "      <td>2 Tahun</td>\n",
       "      <td>80</td>\n",
       "      <td>93</td>\n",
       "      <td>84</td>\n",
       "      <td>100</td>\n",
       "      <td>PERPANJANGAN KONTRAK</td>\n",
       "    </tr>\n",
       "    <tr>\n",
       "      <th>317</th>\n",
       "      <td>Petugas Pascarehabilitasi</td>\n",
       "      <td>Rehabilitasi</td>\n",
       "      <td>2 Tahun</td>\n",
       "      <td>70</td>\n",
       "      <td>70</td>\n",
       "      <td>60</td>\n",
       "      <td>70</td>\n",
       "      <td>DIBERHENTIKAN</td>\n",
       "    </tr>\n",
       "    <tr>\n",
       "      <th>318</th>\n",
       "      <td>Staf Perencanaan</td>\n",
       "      <td>Umum</td>\n",
       "      <td>2 Tahun</td>\n",
       "      <td>71</td>\n",
       "      <td>72</td>\n",
       "      <td>60</td>\n",
       "      <td>60</td>\n",
       "      <td>DIBERHENTIKAN</td>\n",
       "    </tr>\n",
       "    <tr>\n",
       "      <th>319</th>\n",
       "      <td>Staf Penerimaan</td>\n",
       "      <td>Umum</td>\n",
       "      <td>2 Tahun</td>\n",
       "      <td>90</td>\n",
       "      <td>95</td>\n",
       "      <td>82</td>\n",
       "      <td>100</td>\n",
       "      <td>PERPANJANGAN KONTRAK</td>\n",
       "    </tr>\n",
       "  </tbody>\n",
       "</table>\n",
       "<p>320 rows × 8 columns</p>\n",
       "</div>"
      ],
      "text/plain": [
       "                       JABATAN    PENEMPATAN LAMA KERJA  KEHADIRAN  SIKAP  \\\n",
       "0               PPNPN KEUANGAN          Umum    5 Tahun        100     80   \n",
       "1                     Security          Umum    5 Tahun         80     93   \n",
       "2                     Security          Umum    5 Tahun         84     88   \n",
       "3                   Pramubakti          Umum    5 Tahun         80     90   \n",
       "4         KOORDINATOR SECURITY          Umum    5 Tahun         82     89   \n",
       "..                         ...           ...        ...        ...    ...   \n",
       "315  Petugas Pascarehabilitasi  Rehabilitasi    2 Tahun         85     91   \n",
       "316  Petugas Pascarehabilitasi  Rehabilitasi    2 Tahun         80     93   \n",
       "317  Petugas Pascarehabilitasi  Rehabilitasi    2 Tahun         70     70   \n",
       "318           Staf Perencanaan          Umum    2 Tahun         71     72   \n",
       "319            Staf Penerimaan          Umum    2 Tahun         90     95   \n",
       "\n",
       "     TANGGUNG JAWAB  PENCAPAIAN             KEPUTUSAN  \n",
       "0                90         100  PERPANJANGAN KONTRAK  \n",
       "1                98         100  PERPANJANGAN KONTRAK  \n",
       "2                90         100  PERPANJANGAN KONTRAK  \n",
       "3                87         100  PERPANJANGAN KONTRAK  \n",
       "4                82         100  PERPANJANGAN KONTRAK  \n",
       "..              ...         ...                   ...  \n",
       "315              98         100  PERPANJANGAN KONTRAK  \n",
       "316              84         100  PERPANJANGAN KONTRAK  \n",
       "317              60          70         DIBERHENTIKAN  \n",
       "318              60          60         DIBERHENTIKAN  \n",
       "319              82         100  PERPANJANGAN KONTRAK  \n",
       "\n",
       "[320 rows x 8 columns]"
      ]
     },
     "execution_count": 7,
     "metadata": {},
     "output_type": "execute_result"
    }
   ],
   "source": [
    "df"
   ]
  },
  {
   "cell_type": "code",
   "execution_count": 8,
   "id": "70357f27",
   "metadata": {},
   "outputs": [
    {
     "data": {
      "text/html": [
       "<div>\n",
       "<style scoped>\n",
       "    .dataframe tbody tr th:only-of-type {\n",
       "        vertical-align: middle;\n",
       "    }\n",
       "\n",
       "    .dataframe tbody tr th {\n",
       "        vertical-align: top;\n",
       "    }\n",
       "\n",
       "    .dataframe thead th {\n",
       "        text-align: right;\n",
       "    }\n",
       "</style>\n",
       "<table border=\"1\" class=\"dataframe\">\n",
       "  <thead>\n",
       "    <tr style=\"text-align: right;\">\n",
       "      <th></th>\n",
       "      <th>JABATAN</th>\n",
       "      <th>PENEMPATAN</th>\n",
       "      <th>LAMA KERJA</th>\n",
       "      <th>KEHADIRAN</th>\n",
       "      <th>SIKAP</th>\n",
       "      <th>TANGGUNG JAWAB</th>\n",
       "      <th>PENCAPAIAN</th>\n",
       "      <th>KEPUTUSAN</th>\n",
       "    </tr>\n",
       "  </thead>\n",
       "  <tbody>\n",
       "    <tr>\n",
       "      <th>0</th>\n",
       "      <td>PPNPN KEUANGAN</td>\n",
       "      <td>Umum</td>\n",
       "      <td>5 Tahun</td>\n",
       "      <td>100</td>\n",
       "      <td>80</td>\n",
       "      <td>90</td>\n",
       "      <td>100</td>\n",
       "      <td>PERPANJANGAN KONTRAK</td>\n",
       "    </tr>\n",
       "    <tr>\n",
       "      <th>1</th>\n",
       "      <td>Security</td>\n",
       "      <td>Umum</td>\n",
       "      <td>5 Tahun</td>\n",
       "      <td>80</td>\n",
       "      <td>93</td>\n",
       "      <td>98</td>\n",
       "      <td>100</td>\n",
       "      <td>PERPANJANGAN KONTRAK</td>\n",
       "    </tr>\n",
       "    <tr>\n",
       "      <th>2</th>\n",
       "      <td>Security</td>\n",
       "      <td>Umum</td>\n",
       "      <td>5 Tahun</td>\n",
       "      <td>84</td>\n",
       "      <td>88</td>\n",
       "      <td>90</td>\n",
       "      <td>100</td>\n",
       "      <td>PERPANJANGAN KONTRAK</td>\n",
       "    </tr>\n",
       "    <tr>\n",
       "      <th>3</th>\n",
       "      <td>Pramubakti</td>\n",
       "      <td>Umum</td>\n",
       "      <td>5 Tahun</td>\n",
       "      <td>80</td>\n",
       "      <td>90</td>\n",
       "      <td>87</td>\n",
       "      <td>100</td>\n",
       "      <td>PERPANJANGAN KONTRAK</td>\n",
       "    </tr>\n",
       "    <tr>\n",
       "      <th>4</th>\n",
       "      <td>KOORDINATOR SECURITY</td>\n",
       "      <td>Umum</td>\n",
       "      <td>5 Tahun</td>\n",
       "      <td>82</td>\n",
       "      <td>89</td>\n",
       "      <td>82</td>\n",
       "      <td>100</td>\n",
       "      <td>PERPANJANGAN KONTRAK</td>\n",
       "    </tr>\n",
       "    <tr>\n",
       "      <th>...</th>\n",
       "      <td>...</td>\n",
       "      <td>...</td>\n",
       "      <td>...</td>\n",
       "      <td>...</td>\n",
       "      <td>...</td>\n",
       "      <td>...</td>\n",
       "      <td>...</td>\n",
       "      <td>...</td>\n",
       "    </tr>\n",
       "    <tr>\n",
       "      <th>315</th>\n",
       "      <td>Petugas Pascarehabilitasi</td>\n",
       "      <td>Rehabilitasi</td>\n",
       "      <td>2 Tahun</td>\n",
       "      <td>85</td>\n",
       "      <td>91</td>\n",
       "      <td>98</td>\n",
       "      <td>100</td>\n",
       "      <td>PERPANJANGAN KONTRAK</td>\n",
       "    </tr>\n",
       "    <tr>\n",
       "      <th>316</th>\n",
       "      <td>Petugas Pascarehabilitasi</td>\n",
       "      <td>Rehabilitasi</td>\n",
       "      <td>2 Tahun</td>\n",
       "      <td>80</td>\n",
       "      <td>93</td>\n",
       "      <td>84</td>\n",
       "      <td>100</td>\n",
       "      <td>PERPANJANGAN KONTRAK</td>\n",
       "    </tr>\n",
       "    <tr>\n",
       "      <th>317</th>\n",
       "      <td>Petugas Pascarehabilitasi</td>\n",
       "      <td>Rehabilitasi</td>\n",
       "      <td>2 Tahun</td>\n",
       "      <td>70</td>\n",
       "      <td>70</td>\n",
       "      <td>60</td>\n",
       "      <td>70</td>\n",
       "      <td>DIBERHENTIKAN</td>\n",
       "    </tr>\n",
       "    <tr>\n",
       "      <th>318</th>\n",
       "      <td>Staf Perencanaan</td>\n",
       "      <td>Umum</td>\n",
       "      <td>2 Tahun</td>\n",
       "      <td>71</td>\n",
       "      <td>72</td>\n",
       "      <td>60</td>\n",
       "      <td>60</td>\n",
       "      <td>DIBERHENTIKAN</td>\n",
       "    </tr>\n",
       "    <tr>\n",
       "      <th>319</th>\n",
       "      <td>Staf Penerimaan</td>\n",
       "      <td>Umum</td>\n",
       "      <td>2 Tahun</td>\n",
       "      <td>90</td>\n",
       "      <td>95</td>\n",
       "      <td>82</td>\n",
       "      <td>100</td>\n",
       "      <td>PERPANJANGAN KONTRAK</td>\n",
       "    </tr>\n",
       "  </tbody>\n",
       "</table>\n",
       "<p>320 rows × 8 columns</p>\n",
       "</div>"
      ],
      "text/plain": [
       "                       JABATAN    PENEMPATAN LAMA KERJA  KEHADIRAN  SIKAP  \\\n",
       "0               PPNPN KEUANGAN          Umum    5 Tahun        100     80   \n",
       "1                     Security          Umum    5 Tahun         80     93   \n",
       "2                     Security          Umum    5 Tahun         84     88   \n",
       "3                   Pramubakti          Umum    5 Tahun         80     90   \n",
       "4         KOORDINATOR SECURITY          Umum    5 Tahun         82     89   \n",
       "..                         ...           ...        ...        ...    ...   \n",
       "315  Petugas Pascarehabilitasi  Rehabilitasi    2 Tahun         85     91   \n",
       "316  Petugas Pascarehabilitasi  Rehabilitasi    2 Tahun         80     93   \n",
       "317  Petugas Pascarehabilitasi  Rehabilitasi    2 Tahun         70     70   \n",
       "318           Staf Perencanaan          Umum    2 Tahun         71     72   \n",
       "319            Staf Penerimaan          Umum    2 Tahun         90     95   \n",
       "\n",
       "     TANGGUNG JAWAB  PENCAPAIAN             KEPUTUSAN  \n",
       "0                90         100  PERPANJANGAN KONTRAK  \n",
       "1                98         100  PERPANJANGAN KONTRAK  \n",
       "2                90         100  PERPANJANGAN KONTRAK  \n",
       "3                87         100  PERPANJANGAN KONTRAK  \n",
       "4                82         100  PERPANJANGAN KONTRAK  \n",
       "..              ...         ...                   ...  \n",
       "315              98         100  PERPANJANGAN KONTRAK  \n",
       "316              84         100  PERPANJANGAN KONTRAK  \n",
       "317              60          70         DIBERHENTIKAN  \n",
       "318              60          60         DIBERHENTIKAN  \n",
       "319              82         100  PERPANJANGAN KONTRAK  \n",
       "\n",
       "[320 rows x 8 columns]"
      ]
     },
     "execution_count": 8,
     "metadata": {},
     "output_type": "execute_result"
    }
   ],
   "source": [
    "df"
   ]
  },
  {
   "cell_type": "code",
   "execution_count": 9,
   "id": "f66c6932",
   "metadata": {},
   "outputs": [],
   "source": [
    "# digunakan untuk mengubah data nominal menjadi numerik\n",
    "from sklearn.preprocessing import LabelEncoder\n",
    "label_encoder = LabelEncoder()"
   ]
  },
  {
   "cell_type": "code",
   "execution_count": 10,
   "id": "4b70aaf8",
   "metadata": {},
   "outputs": [],
   "source": [
    "df['JABATAN'] = label_encoder.fit_transform(df['JABATAN'])"
   ]
  },
  {
   "cell_type": "code",
   "execution_count": 11,
   "id": "e49aeafb",
   "metadata": {},
   "outputs": [
    {
     "data": {
      "text/html": [
       "<div>\n",
       "<style scoped>\n",
       "    .dataframe tbody tr th:only-of-type {\n",
       "        vertical-align: middle;\n",
       "    }\n",
       "\n",
       "    .dataframe tbody tr th {\n",
       "        vertical-align: top;\n",
       "    }\n",
       "\n",
       "    .dataframe thead th {\n",
       "        text-align: right;\n",
       "    }\n",
       "</style>\n",
       "<table border=\"1\" class=\"dataframe\">\n",
       "  <thead>\n",
       "    <tr style=\"text-align: right;\">\n",
       "      <th></th>\n",
       "      <th>JABATAN</th>\n",
       "      <th>PENEMPATAN</th>\n",
       "      <th>LAMA KERJA</th>\n",
       "      <th>KEHADIRAN</th>\n",
       "      <th>SIKAP</th>\n",
       "      <th>TANGGUNG JAWAB</th>\n",
       "      <th>PENCAPAIAN</th>\n",
       "      <th>KEPUTUSAN</th>\n",
       "    </tr>\n",
       "  </thead>\n",
       "  <tbody>\n",
       "    <tr>\n",
       "      <th>0</th>\n",
       "      <td>6</td>\n",
       "      <td>Umum</td>\n",
       "      <td>5 Tahun</td>\n",
       "      <td>100</td>\n",
       "      <td>80</td>\n",
       "      <td>90</td>\n",
       "      <td>100</td>\n",
       "      <td>PERPANJANGAN KONTRAK</td>\n",
       "    </tr>\n",
       "    <tr>\n",
       "      <th>1</th>\n",
       "      <td>12</td>\n",
       "      <td>Umum</td>\n",
       "      <td>5 Tahun</td>\n",
       "      <td>80</td>\n",
       "      <td>93</td>\n",
       "      <td>98</td>\n",
       "      <td>100</td>\n",
       "      <td>PERPANJANGAN KONTRAK</td>\n",
       "    </tr>\n",
       "    <tr>\n",
       "      <th>2</th>\n",
       "      <td>12</td>\n",
       "      <td>Umum</td>\n",
       "      <td>5 Tahun</td>\n",
       "      <td>84</td>\n",
       "      <td>88</td>\n",
       "      <td>90</td>\n",
       "      <td>100</td>\n",
       "      <td>PERPANJANGAN KONTRAK</td>\n",
       "    </tr>\n",
       "    <tr>\n",
       "      <th>3</th>\n",
       "      <td>11</td>\n",
       "      <td>Umum</td>\n",
       "      <td>5 Tahun</td>\n",
       "      <td>80</td>\n",
       "      <td>90</td>\n",
       "      <td>87</td>\n",
       "      <td>100</td>\n",
       "      <td>PERPANJANGAN KONTRAK</td>\n",
       "    </tr>\n",
       "    <tr>\n",
       "      <th>4</th>\n",
       "      <td>2</td>\n",
       "      <td>Umum</td>\n",
       "      <td>5 Tahun</td>\n",
       "      <td>82</td>\n",
       "      <td>89</td>\n",
       "      <td>82</td>\n",
       "      <td>100</td>\n",
       "      <td>PERPANJANGAN KONTRAK</td>\n",
       "    </tr>\n",
       "    <tr>\n",
       "      <th>...</th>\n",
       "      <td>...</td>\n",
       "      <td>...</td>\n",
       "      <td>...</td>\n",
       "      <td>...</td>\n",
       "      <td>...</td>\n",
       "      <td>...</td>\n",
       "      <td>...</td>\n",
       "      <td>...</td>\n",
       "    </tr>\n",
       "    <tr>\n",
       "      <th>315</th>\n",
       "      <td>10</td>\n",
       "      <td>Rehabilitasi</td>\n",
       "      <td>2 Tahun</td>\n",
       "      <td>85</td>\n",
       "      <td>91</td>\n",
       "      <td>98</td>\n",
       "      <td>100</td>\n",
       "      <td>PERPANJANGAN KONTRAK</td>\n",
       "    </tr>\n",
       "    <tr>\n",
       "      <th>316</th>\n",
       "      <td>10</td>\n",
       "      <td>Rehabilitasi</td>\n",
       "      <td>2 Tahun</td>\n",
       "      <td>80</td>\n",
       "      <td>93</td>\n",
       "      <td>84</td>\n",
       "      <td>100</td>\n",
       "      <td>PERPANJANGAN KONTRAK</td>\n",
       "    </tr>\n",
       "    <tr>\n",
       "      <th>317</th>\n",
       "      <td>10</td>\n",
       "      <td>Rehabilitasi</td>\n",
       "      <td>2 Tahun</td>\n",
       "      <td>70</td>\n",
       "      <td>70</td>\n",
       "      <td>60</td>\n",
       "      <td>70</td>\n",
       "      <td>DIBERHENTIKAN</td>\n",
       "    </tr>\n",
       "    <tr>\n",
       "      <th>318</th>\n",
       "      <td>23</td>\n",
       "      <td>Umum</td>\n",
       "      <td>2 Tahun</td>\n",
       "      <td>71</td>\n",
       "      <td>72</td>\n",
       "      <td>60</td>\n",
       "      <td>60</td>\n",
       "      <td>DIBERHENTIKAN</td>\n",
       "    </tr>\n",
       "    <tr>\n",
       "      <th>319</th>\n",
       "      <td>19</td>\n",
       "      <td>Umum</td>\n",
       "      <td>2 Tahun</td>\n",
       "      <td>90</td>\n",
       "      <td>95</td>\n",
       "      <td>82</td>\n",
       "      <td>100</td>\n",
       "      <td>PERPANJANGAN KONTRAK</td>\n",
       "    </tr>\n",
       "  </tbody>\n",
       "</table>\n",
       "<p>320 rows × 8 columns</p>\n",
       "</div>"
      ],
      "text/plain": [
       "     JABATAN    PENEMPATAN LAMA KERJA  KEHADIRAN  SIKAP  TANGGUNG JAWAB  \\\n",
       "0          6          Umum    5 Tahun        100     80              90   \n",
       "1         12          Umum    5 Tahun         80     93              98   \n",
       "2         12          Umum    5 Tahun         84     88              90   \n",
       "3         11          Umum    5 Tahun         80     90              87   \n",
       "4          2          Umum    5 Tahun         82     89              82   \n",
       "..       ...           ...        ...        ...    ...             ...   \n",
       "315       10  Rehabilitasi    2 Tahun         85     91              98   \n",
       "316       10  Rehabilitasi    2 Tahun         80     93              84   \n",
       "317       10  Rehabilitasi    2 Tahun         70     70              60   \n",
       "318       23          Umum    2 Tahun         71     72              60   \n",
       "319       19          Umum    2 Tahun         90     95              82   \n",
       "\n",
       "     PENCAPAIAN             KEPUTUSAN  \n",
       "0           100  PERPANJANGAN KONTRAK  \n",
       "1           100  PERPANJANGAN KONTRAK  \n",
       "2           100  PERPANJANGAN KONTRAK  \n",
       "3           100  PERPANJANGAN KONTRAK  \n",
       "4           100  PERPANJANGAN KONTRAK  \n",
       "..          ...                   ...  \n",
       "315         100  PERPANJANGAN KONTRAK  \n",
       "316         100  PERPANJANGAN KONTRAK  \n",
       "317          70         DIBERHENTIKAN  \n",
       "318          60         DIBERHENTIKAN  \n",
       "319         100  PERPANJANGAN KONTRAK  \n",
       "\n",
       "[320 rows x 8 columns]"
      ]
     },
     "execution_count": 11,
     "metadata": {},
     "output_type": "execute_result"
    }
   ],
   "source": [
    "df"
   ]
  },
  {
   "cell_type": "code",
   "execution_count": 12,
   "id": "d529751c",
   "metadata": {},
   "outputs": [
    {
     "data": {
      "text/plain": [
       "array(['Analisis Kesehatan Klinik', 'Dokter Klinik Prtama',\n",
       "       'KOORDINATOR SECURITY', 'PENGEMUDI',\n",
       "       'PPNPN Analis Kesehatan Klnik', 'PPNPN HUMAS', 'PPNPN KEUANGAN',\n",
       "       'PPNPN Perencanaan', 'PPNPN Staf Admin P2M',\n",
       "       'Perawat Klinik Pratama', 'Petugas Pascarehabilitasi',\n",
       "       'Pramubakti', 'Security', 'Staf Admin Berantas', 'Staf Admin P2M',\n",
       "       'Staf Berantas', 'Staf Humas Berantas', 'Staf Humas P2M',\n",
       "       'Staf Humas Rehab', 'Staf Penerimaan', 'Staf Penerimaan Berantas',\n",
       "       'Staf Penerimaan P2M', 'Staf Penyuluh P2M', 'Staf Perencanaan'],\n",
       "      dtype=object)"
      ]
     },
     "execution_count": 12,
     "metadata": {},
     "output_type": "execute_result"
    }
   ],
   "source": [
    "label_encoder.classes_"
   ]
  },
  {
   "cell_type": "code",
   "execution_count": 13,
   "id": "70166618",
   "metadata": {},
   "outputs": [],
   "source": [
    "df['PENEMPATAN'] = label_encoder.fit_transform(df['PENEMPATAN'])"
   ]
  },
  {
   "cell_type": "code",
   "execution_count": 14,
   "id": "6a8a5139",
   "metadata": {},
   "outputs": [
    {
     "data": {
      "text/html": [
       "<div>\n",
       "<style scoped>\n",
       "    .dataframe tbody tr th:only-of-type {\n",
       "        vertical-align: middle;\n",
       "    }\n",
       "\n",
       "    .dataframe tbody tr th {\n",
       "        vertical-align: top;\n",
       "    }\n",
       "\n",
       "    .dataframe thead th {\n",
       "        text-align: right;\n",
       "    }\n",
       "</style>\n",
       "<table border=\"1\" class=\"dataframe\">\n",
       "  <thead>\n",
       "    <tr style=\"text-align: right;\">\n",
       "      <th></th>\n",
       "      <th>JABATAN</th>\n",
       "      <th>PENEMPATAN</th>\n",
       "      <th>LAMA KERJA</th>\n",
       "      <th>KEHADIRAN</th>\n",
       "      <th>SIKAP</th>\n",
       "      <th>TANGGUNG JAWAB</th>\n",
       "      <th>PENCAPAIAN</th>\n",
       "      <th>KEPUTUSAN</th>\n",
       "    </tr>\n",
       "  </thead>\n",
       "  <tbody>\n",
       "    <tr>\n",
       "      <th>0</th>\n",
       "      <td>6</td>\n",
       "      <td>4</td>\n",
       "      <td>5 Tahun</td>\n",
       "      <td>100</td>\n",
       "      <td>80</td>\n",
       "      <td>90</td>\n",
       "      <td>100</td>\n",
       "      <td>PERPANJANGAN KONTRAK</td>\n",
       "    </tr>\n",
       "    <tr>\n",
       "      <th>1</th>\n",
       "      <td>12</td>\n",
       "      <td>4</td>\n",
       "      <td>5 Tahun</td>\n",
       "      <td>80</td>\n",
       "      <td>93</td>\n",
       "      <td>98</td>\n",
       "      <td>100</td>\n",
       "      <td>PERPANJANGAN KONTRAK</td>\n",
       "    </tr>\n",
       "    <tr>\n",
       "      <th>2</th>\n",
       "      <td>12</td>\n",
       "      <td>4</td>\n",
       "      <td>5 Tahun</td>\n",
       "      <td>84</td>\n",
       "      <td>88</td>\n",
       "      <td>90</td>\n",
       "      <td>100</td>\n",
       "      <td>PERPANJANGAN KONTRAK</td>\n",
       "    </tr>\n",
       "    <tr>\n",
       "      <th>3</th>\n",
       "      <td>11</td>\n",
       "      <td>4</td>\n",
       "      <td>5 Tahun</td>\n",
       "      <td>80</td>\n",
       "      <td>90</td>\n",
       "      <td>87</td>\n",
       "      <td>100</td>\n",
       "      <td>PERPANJANGAN KONTRAK</td>\n",
       "    </tr>\n",
       "    <tr>\n",
       "      <th>4</th>\n",
       "      <td>2</td>\n",
       "      <td>4</td>\n",
       "      <td>5 Tahun</td>\n",
       "      <td>82</td>\n",
       "      <td>89</td>\n",
       "      <td>82</td>\n",
       "      <td>100</td>\n",
       "      <td>PERPANJANGAN KONTRAK</td>\n",
       "    </tr>\n",
       "    <tr>\n",
       "      <th>...</th>\n",
       "      <td>...</td>\n",
       "      <td>...</td>\n",
       "      <td>...</td>\n",
       "      <td>...</td>\n",
       "      <td>...</td>\n",
       "      <td>...</td>\n",
       "      <td>...</td>\n",
       "      <td>...</td>\n",
       "    </tr>\n",
       "    <tr>\n",
       "      <th>315</th>\n",
       "      <td>10</td>\n",
       "      <td>3</td>\n",
       "      <td>2 Tahun</td>\n",
       "      <td>85</td>\n",
       "      <td>91</td>\n",
       "      <td>98</td>\n",
       "      <td>100</td>\n",
       "      <td>PERPANJANGAN KONTRAK</td>\n",
       "    </tr>\n",
       "    <tr>\n",
       "      <th>316</th>\n",
       "      <td>10</td>\n",
       "      <td>3</td>\n",
       "      <td>2 Tahun</td>\n",
       "      <td>80</td>\n",
       "      <td>93</td>\n",
       "      <td>84</td>\n",
       "      <td>100</td>\n",
       "      <td>PERPANJANGAN KONTRAK</td>\n",
       "    </tr>\n",
       "    <tr>\n",
       "      <th>317</th>\n",
       "      <td>10</td>\n",
       "      <td>3</td>\n",
       "      <td>2 Tahun</td>\n",
       "      <td>70</td>\n",
       "      <td>70</td>\n",
       "      <td>60</td>\n",
       "      <td>70</td>\n",
       "      <td>DIBERHENTIKAN</td>\n",
       "    </tr>\n",
       "    <tr>\n",
       "      <th>318</th>\n",
       "      <td>23</td>\n",
       "      <td>4</td>\n",
       "      <td>2 Tahun</td>\n",
       "      <td>71</td>\n",
       "      <td>72</td>\n",
       "      <td>60</td>\n",
       "      <td>60</td>\n",
       "      <td>DIBERHENTIKAN</td>\n",
       "    </tr>\n",
       "    <tr>\n",
       "      <th>319</th>\n",
       "      <td>19</td>\n",
       "      <td>4</td>\n",
       "      <td>2 Tahun</td>\n",
       "      <td>90</td>\n",
       "      <td>95</td>\n",
       "      <td>82</td>\n",
       "      <td>100</td>\n",
       "      <td>PERPANJANGAN KONTRAK</td>\n",
       "    </tr>\n",
       "  </tbody>\n",
       "</table>\n",
       "<p>320 rows × 8 columns</p>\n",
       "</div>"
      ],
      "text/plain": [
       "     JABATAN  PENEMPATAN LAMA KERJA  KEHADIRAN  SIKAP  TANGGUNG JAWAB  \\\n",
       "0          6           4    5 Tahun        100     80              90   \n",
       "1         12           4    5 Tahun         80     93              98   \n",
       "2         12           4    5 Tahun         84     88              90   \n",
       "3         11           4    5 Tahun         80     90              87   \n",
       "4          2           4    5 Tahun         82     89              82   \n",
       "..       ...         ...        ...        ...    ...             ...   \n",
       "315       10           3    2 Tahun         85     91              98   \n",
       "316       10           3    2 Tahun         80     93              84   \n",
       "317       10           3    2 Tahun         70     70              60   \n",
       "318       23           4    2 Tahun         71     72              60   \n",
       "319       19           4    2 Tahun         90     95              82   \n",
       "\n",
       "     PENCAPAIAN             KEPUTUSAN  \n",
       "0           100  PERPANJANGAN KONTRAK  \n",
       "1           100  PERPANJANGAN KONTRAK  \n",
       "2           100  PERPANJANGAN KONTRAK  \n",
       "3           100  PERPANJANGAN KONTRAK  \n",
       "4           100  PERPANJANGAN KONTRAK  \n",
       "..          ...                   ...  \n",
       "315         100  PERPANJANGAN KONTRAK  \n",
       "316         100  PERPANJANGAN KONTRAK  \n",
       "317          70         DIBERHENTIKAN  \n",
       "318          60         DIBERHENTIKAN  \n",
       "319         100  PERPANJANGAN KONTRAK  \n",
       "\n",
       "[320 rows x 8 columns]"
      ]
     },
     "execution_count": 14,
     "metadata": {},
     "output_type": "execute_result"
    }
   ],
   "source": [
    "df"
   ]
  },
  {
   "cell_type": "code",
   "execution_count": 15,
   "id": "2410e751",
   "metadata": {},
   "outputs": [
    {
     "data": {
      "text/plain": [
       "array(['Klinik', 'P2M', 'Pemberantasan', 'Rehabilitasi', 'Umum'],\n",
       "      dtype=object)"
      ]
     },
     "execution_count": 15,
     "metadata": {},
     "output_type": "execute_result"
    }
   ],
   "source": [
    "label_encoder.classes_"
   ]
  },
  {
   "cell_type": "code",
   "execution_count": 16,
   "id": "ecd7d4c2",
   "metadata": {},
   "outputs": [],
   "source": [
    "df['LAMA KERJA'] = label_encoder.fit_transform(df['LAMA KERJA'])"
   ]
  },
  {
   "cell_type": "code",
   "execution_count": 17,
   "id": "ec47012c",
   "metadata": {},
   "outputs": [
    {
     "data": {
      "text/html": [
       "<div>\n",
       "<style scoped>\n",
       "    .dataframe tbody tr th:only-of-type {\n",
       "        vertical-align: middle;\n",
       "    }\n",
       "\n",
       "    .dataframe tbody tr th {\n",
       "        vertical-align: top;\n",
       "    }\n",
       "\n",
       "    .dataframe thead th {\n",
       "        text-align: right;\n",
       "    }\n",
       "</style>\n",
       "<table border=\"1\" class=\"dataframe\">\n",
       "  <thead>\n",
       "    <tr style=\"text-align: right;\">\n",
       "      <th></th>\n",
       "      <th>JABATAN</th>\n",
       "      <th>PENEMPATAN</th>\n",
       "      <th>LAMA KERJA</th>\n",
       "      <th>KEHADIRAN</th>\n",
       "      <th>SIKAP</th>\n",
       "      <th>TANGGUNG JAWAB</th>\n",
       "      <th>PENCAPAIAN</th>\n",
       "      <th>KEPUTUSAN</th>\n",
       "    </tr>\n",
       "  </thead>\n",
       "  <tbody>\n",
       "    <tr>\n",
       "      <th>0</th>\n",
       "      <td>6</td>\n",
       "      <td>4</td>\n",
       "      <td>4</td>\n",
       "      <td>100</td>\n",
       "      <td>80</td>\n",
       "      <td>90</td>\n",
       "      <td>100</td>\n",
       "      <td>PERPANJANGAN KONTRAK</td>\n",
       "    </tr>\n",
       "    <tr>\n",
       "      <th>1</th>\n",
       "      <td>12</td>\n",
       "      <td>4</td>\n",
       "      <td>4</td>\n",
       "      <td>80</td>\n",
       "      <td>93</td>\n",
       "      <td>98</td>\n",
       "      <td>100</td>\n",
       "      <td>PERPANJANGAN KONTRAK</td>\n",
       "    </tr>\n",
       "    <tr>\n",
       "      <th>2</th>\n",
       "      <td>12</td>\n",
       "      <td>4</td>\n",
       "      <td>4</td>\n",
       "      <td>84</td>\n",
       "      <td>88</td>\n",
       "      <td>90</td>\n",
       "      <td>100</td>\n",
       "      <td>PERPANJANGAN KONTRAK</td>\n",
       "    </tr>\n",
       "    <tr>\n",
       "      <th>3</th>\n",
       "      <td>11</td>\n",
       "      <td>4</td>\n",
       "      <td>4</td>\n",
       "      <td>80</td>\n",
       "      <td>90</td>\n",
       "      <td>87</td>\n",
       "      <td>100</td>\n",
       "      <td>PERPANJANGAN KONTRAK</td>\n",
       "    </tr>\n",
       "    <tr>\n",
       "      <th>4</th>\n",
       "      <td>2</td>\n",
       "      <td>4</td>\n",
       "      <td>4</td>\n",
       "      <td>82</td>\n",
       "      <td>89</td>\n",
       "      <td>82</td>\n",
       "      <td>100</td>\n",
       "      <td>PERPANJANGAN KONTRAK</td>\n",
       "    </tr>\n",
       "    <tr>\n",
       "      <th>...</th>\n",
       "      <td>...</td>\n",
       "      <td>...</td>\n",
       "      <td>...</td>\n",
       "      <td>...</td>\n",
       "      <td>...</td>\n",
       "      <td>...</td>\n",
       "      <td>...</td>\n",
       "      <td>...</td>\n",
       "    </tr>\n",
       "    <tr>\n",
       "      <th>315</th>\n",
       "      <td>10</td>\n",
       "      <td>3</td>\n",
       "      <td>1</td>\n",
       "      <td>85</td>\n",
       "      <td>91</td>\n",
       "      <td>98</td>\n",
       "      <td>100</td>\n",
       "      <td>PERPANJANGAN KONTRAK</td>\n",
       "    </tr>\n",
       "    <tr>\n",
       "      <th>316</th>\n",
       "      <td>10</td>\n",
       "      <td>3</td>\n",
       "      <td>1</td>\n",
       "      <td>80</td>\n",
       "      <td>93</td>\n",
       "      <td>84</td>\n",
       "      <td>100</td>\n",
       "      <td>PERPANJANGAN KONTRAK</td>\n",
       "    </tr>\n",
       "    <tr>\n",
       "      <th>317</th>\n",
       "      <td>10</td>\n",
       "      <td>3</td>\n",
       "      <td>1</td>\n",
       "      <td>70</td>\n",
       "      <td>70</td>\n",
       "      <td>60</td>\n",
       "      <td>70</td>\n",
       "      <td>DIBERHENTIKAN</td>\n",
       "    </tr>\n",
       "    <tr>\n",
       "      <th>318</th>\n",
       "      <td>23</td>\n",
       "      <td>4</td>\n",
       "      <td>1</td>\n",
       "      <td>71</td>\n",
       "      <td>72</td>\n",
       "      <td>60</td>\n",
       "      <td>60</td>\n",
       "      <td>DIBERHENTIKAN</td>\n",
       "    </tr>\n",
       "    <tr>\n",
       "      <th>319</th>\n",
       "      <td>19</td>\n",
       "      <td>4</td>\n",
       "      <td>1</td>\n",
       "      <td>90</td>\n",
       "      <td>95</td>\n",
       "      <td>82</td>\n",
       "      <td>100</td>\n",
       "      <td>PERPANJANGAN KONTRAK</td>\n",
       "    </tr>\n",
       "  </tbody>\n",
       "</table>\n",
       "<p>320 rows × 8 columns</p>\n",
       "</div>"
      ],
      "text/plain": [
       "     JABATAN  PENEMPATAN  LAMA KERJA  KEHADIRAN  SIKAP  TANGGUNG JAWAB  \\\n",
       "0          6           4           4        100     80              90   \n",
       "1         12           4           4         80     93              98   \n",
       "2         12           4           4         84     88              90   \n",
       "3         11           4           4         80     90              87   \n",
       "4          2           4           4         82     89              82   \n",
       "..       ...         ...         ...        ...    ...             ...   \n",
       "315       10           3           1         85     91              98   \n",
       "316       10           3           1         80     93              84   \n",
       "317       10           3           1         70     70              60   \n",
       "318       23           4           1         71     72              60   \n",
       "319       19           4           1         90     95              82   \n",
       "\n",
       "     PENCAPAIAN             KEPUTUSAN  \n",
       "0           100  PERPANJANGAN KONTRAK  \n",
       "1           100  PERPANJANGAN KONTRAK  \n",
       "2           100  PERPANJANGAN KONTRAK  \n",
       "3           100  PERPANJANGAN KONTRAK  \n",
       "4           100  PERPANJANGAN KONTRAK  \n",
       "..          ...                   ...  \n",
       "315         100  PERPANJANGAN KONTRAK  \n",
       "316         100  PERPANJANGAN KONTRAK  \n",
       "317          70         DIBERHENTIKAN  \n",
       "318          60         DIBERHENTIKAN  \n",
       "319         100  PERPANJANGAN KONTRAK  \n",
       "\n",
       "[320 rows x 8 columns]"
      ]
     },
     "execution_count": 17,
     "metadata": {},
     "output_type": "execute_result"
    }
   ],
   "source": [
    "df"
   ]
  },
  {
   "cell_type": "code",
   "execution_count": 18,
   "id": "f5370c2c",
   "metadata": {},
   "outputs": [
    {
     "data": {
      "text/plain": [
       "array(['1 Tahun', '2 Tahun', '3 Tahun', '4 Tahun', '5 Tahun', '6 Bulan'],\n",
       "      dtype=object)"
      ]
     },
     "execution_count": 18,
     "metadata": {},
     "output_type": "execute_result"
    }
   ],
   "source": [
    "label_encoder.classes_"
   ]
  },
  {
   "cell_type": "code",
   "execution_count": 19,
   "id": "5b05619a",
   "metadata": {},
   "outputs": [
    {
     "data": {
      "text/html": [
       "<div>\n",
       "<style scoped>\n",
       "    .dataframe tbody tr th:only-of-type {\n",
       "        vertical-align: middle;\n",
       "    }\n",
       "\n",
       "    .dataframe tbody tr th {\n",
       "        vertical-align: top;\n",
       "    }\n",
       "\n",
       "    .dataframe thead th {\n",
       "        text-align: right;\n",
       "    }\n",
       "</style>\n",
       "<table border=\"1\" class=\"dataframe\">\n",
       "  <thead>\n",
       "    <tr style=\"text-align: right;\">\n",
       "      <th></th>\n",
       "      <th>JABATAN</th>\n",
       "      <th>PENEMPATAN</th>\n",
       "      <th>LAMA KERJA</th>\n",
       "      <th>KEHADIRAN</th>\n",
       "      <th>SIKAP</th>\n",
       "      <th>TANGGUNG JAWAB</th>\n",
       "      <th>PENCAPAIAN</th>\n",
       "    </tr>\n",
       "  </thead>\n",
       "  <tbody>\n",
       "    <tr>\n",
       "      <th>JABATAN</th>\n",
       "      <td>1.000000</td>\n",
       "      <td>-0.158744</td>\n",
       "      <td>-0.415652</td>\n",
       "      <td>-0.206040</td>\n",
       "      <td>-0.168648</td>\n",
       "      <td>-0.148027</td>\n",
       "      <td>-0.345097</td>\n",
       "    </tr>\n",
       "    <tr>\n",
       "      <th>PENEMPATAN</th>\n",
       "      <td>-0.158744</td>\n",
       "      <td>1.000000</td>\n",
       "      <td>0.266855</td>\n",
       "      <td>-0.167322</td>\n",
       "      <td>-0.000419</td>\n",
       "      <td>-0.122742</td>\n",
       "      <td>-0.128044</td>\n",
       "    </tr>\n",
       "    <tr>\n",
       "      <th>LAMA KERJA</th>\n",
       "      <td>-0.415652</td>\n",
       "      <td>0.266855</td>\n",
       "      <td>1.000000</td>\n",
       "      <td>0.177558</td>\n",
       "      <td>0.184094</td>\n",
       "      <td>0.307588</td>\n",
       "      <td>0.293017</td>\n",
       "    </tr>\n",
       "    <tr>\n",
       "      <th>KEHADIRAN</th>\n",
       "      <td>-0.206040</td>\n",
       "      <td>-0.167322</td>\n",
       "      <td>0.177558</td>\n",
       "      <td>1.000000</td>\n",
       "      <td>0.628492</td>\n",
       "      <td>0.629514</td>\n",
       "      <td>0.737731</td>\n",
       "    </tr>\n",
       "    <tr>\n",
       "      <th>SIKAP</th>\n",
       "      <td>-0.168648</td>\n",
       "      <td>-0.000419</td>\n",
       "      <td>0.184094</td>\n",
       "      <td>0.628492</td>\n",
       "      <td>1.000000</td>\n",
       "      <td>0.647737</td>\n",
       "      <td>0.728650</td>\n",
       "    </tr>\n",
       "    <tr>\n",
       "      <th>TANGGUNG JAWAB</th>\n",
       "      <td>-0.148027</td>\n",
       "      <td>-0.122742</td>\n",
       "      <td>0.307588</td>\n",
       "      <td>0.629514</td>\n",
       "      <td>0.647737</td>\n",
       "      <td>1.000000</td>\n",
       "      <td>0.812881</td>\n",
       "    </tr>\n",
       "    <tr>\n",
       "      <th>PENCAPAIAN</th>\n",
       "      <td>-0.345097</td>\n",
       "      <td>-0.128044</td>\n",
       "      <td>0.293017</td>\n",
       "      <td>0.737731</td>\n",
       "      <td>0.728650</td>\n",
       "      <td>0.812881</td>\n",
       "      <td>1.000000</td>\n",
       "    </tr>\n",
       "  </tbody>\n",
       "</table>\n",
       "</div>"
      ],
      "text/plain": [
       "                 JABATAN  PENEMPATAN  LAMA KERJA  KEHADIRAN     SIKAP  \\\n",
       "JABATAN         1.000000   -0.158744   -0.415652  -0.206040 -0.168648   \n",
       "PENEMPATAN     -0.158744    1.000000    0.266855  -0.167322 -0.000419   \n",
       "LAMA KERJA     -0.415652    0.266855    1.000000   0.177558  0.184094   \n",
       "KEHADIRAN      -0.206040   -0.167322    0.177558   1.000000  0.628492   \n",
       "SIKAP          -0.168648   -0.000419    0.184094   0.628492  1.000000   \n",
       "TANGGUNG JAWAB -0.148027   -0.122742    0.307588   0.629514  0.647737   \n",
       "PENCAPAIAN     -0.345097   -0.128044    0.293017   0.737731  0.728650   \n",
       "\n",
       "                TANGGUNG JAWAB  PENCAPAIAN  \n",
       "JABATAN              -0.148027   -0.345097  \n",
       "PENEMPATAN           -0.122742   -0.128044  \n",
       "LAMA KERJA            0.307588    0.293017  \n",
       "KEHADIRAN             0.629514    0.737731  \n",
       "SIKAP                 0.647737    0.728650  \n",
       "TANGGUNG JAWAB        1.000000    0.812881  \n",
       "PENCAPAIAN            0.812881    1.000000  "
      ]
     },
     "execution_count": 19,
     "metadata": {},
     "output_type": "execute_result"
    }
   ],
   "source": [
    "#untuk merubah data menjadi matriks korelasi\n",
    "df.corr()"
   ]
  },
  {
   "cell_type": "code",
   "execution_count": 20,
   "id": "37c950ee",
   "metadata": {},
   "outputs": [
    {
     "data": {
      "image/png": "[encoded data removed]",
      "text/plain": [
       "<Figure size 432x288 with 2 Axes>"
      ]
     },
     "metadata": {},
     "output_type": "display_data"
    }
   ],
   "source": [
    "# grafik korelasi \n",
    "sns.heatmap(df.corr(), annot=True, cmap='Greens');"
   ]
  },
  {
   "cell_type": "code",
   "execution_count": 21,
   "id": "4aae1eaa",
   "metadata": {},
   "outputs": [],
   "source": [
    "df.drop('JABATAN', axis=1, inplace=True)\n",
    "df.drop('PENEMPATAN', axis=1, inplace=True)\n",
    "df.drop('LAMA KERJA', axis=1, inplace=True)"
   ]
  },
  {
   "cell_type": "code",
   "execution_count": 22,
   "id": "4d27a3fc",
   "metadata": {},
   "outputs": [
    {
     "data": {
      "text/html": [
       "<div>\n",
       "<style scoped>\n",
       "    .dataframe tbody tr th:only-of-type {\n",
       "        vertical-align: middle;\n",
       "    }\n",
       "\n",
       "    .dataframe tbody tr th {\n",
       "        vertical-align: top;\n",
       "    }\n",
       "\n",
       "    .dataframe thead th {\n",
       "        text-align: right;\n",
       "    }\n",
       "</style>\n",
       "<table border=\"1\" class=\"dataframe\">\n",
       "  <thead>\n",
       "    <tr style=\"text-align: right;\">\n",
       "      <th></th>\n",
       "      <th>KEHADIRAN</th>\n",
       "      <th>SIKAP</th>\n",
       "      <th>TANGGUNG JAWAB</th>\n",
       "      <th>PENCAPAIAN</th>\n",
       "      <th>KEPUTUSAN</th>\n",
       "    </tr>\n",
       "  </thead>\n",
       "  <tbody>\n",
       "    <tr>\n",
       "      <th>0</th>\n",
       "      <td>100</td>\n",
       "      <td>80</td>\n",
       "      <td>90</td>\n",
       "      <td>100</td>\n",
       "      <td>PERPANJANGAN KONTRAK</td>\n",
       "    </tr>\n",
       "    <tr>\n",
       "      <th>1</th>\n",
       "      <td>80</td>\n",
       "      <td>93</td>\n",
       "      <td>98</td>\n",
       "      <td>100</td>\n",
       "      <td>PERPANJANGAN KONTRAK</td>\n",
       "    </tr>\n",
       "    <tr>\n",
       "      <th>2</th>\n",
       "      <td>84</td>\n",
       "      <td>88</td>\n",
       "      <td>90</td>\n",
       "      <td>100</td>\n",
       "      <td>PERPANJANGAN KONTRAK</td>\n",
       "    </tr>\n",
       "    <tr>\n",
       "      <th>3</th>\n",
       "      <td>80</td>\n",
       "      <td>90</td>\n",
       "      <td>87</td>\n",
       "      <td>100</td>\n",
       "      <td>PERPANJANGAN KONTRAK</td>\n",
       "    </tr>\n",
       "    <tr>\n",
       "      <th>4</th>\n",
       "      <td>82</td>\n",
       "      <td>89</td>\n",
       "      <td>82</td>\n",
       "      <td>100</td>\n",
       "      <td>PERPANJANGAN KONTRAK</td>\n",
       "    </tr>\n",
       "    <tr>\n",
       "      <th>...</th>\n",
       "      <td>...</td>\n",
       "      <td>...</td>\n",
       "      <td>...</td>\n",
       "      <td>...</td>\n",
       "      <td>...</td>\n",
       "    </tr>\n",
       "    <tr>\n",
       "      <th>315</th>\n",
       "      <td>85</td>\n",
       "      <td>91</td>\n",
       "      <td>98</td>\n",
       "      <td>100</td>\n",
       "      <td>PERPANJANGAN KONTRAK</td>\n",
       "    </tr>\n",
       "    <tr>\n",
       "      <th>316</th>\n",
       "      <td>80</td>\n",
       "      <td>93</td>\n",
       "      <td>84</td>\n",
       "      <td>100</td>\n",
       "      <td>PERPANJANGAN KONTRAK</td>\n",
       "    </tr>\n",
       "    <tr>\n",
       "      <th>317</th>\n",
       "      <td>70</td>\n",
       "      <td>70</td>\n",
       "      <td>60</td>\n",
       "      <td>70</td>\n",
       "      <td>DIBERHENTIKAN</td>\n",
       "    </tr>\n",
       "    <tr>\n",
       "      <th>318</th>\n",
       "      <td>71</td>\n",
       "      <td>72</td>\n",
       "      <td>60</td>\n",
       "      <td>60</td>\n",
       "      <td>DIBERHENTIKAN</td>\n",
       "    </tr>\n",
       "    <tr>\n",
       "      <th>319</th>\n",
       "      <td>90</td>\n",
       "      <td>95</td>\n",
       "      <td>82</td>\n",
       "      <td>100</td>\n",
       "      <td>PERPANJANGAN KONTRAK</td>\n",
       "    </tr>\n",
       "  </tbody>\n",
       "</table>\n",
       "<p>320 rows × 5 columns</p>\n",
       "</div>"
      ],
      "text/plain": [
       "     KEHADIRAN  SIKAP  TANGGUNG JAWAB  PENCAPAIAN             KEPUTUSAN\n",
       "0          100     80              90         100  PERPANJANGAN KONTRAK\n",
       "1           80     93              98         100  PERPANJANGAN KONTRAK\n",
       "2           84     88              90         100  PERPANJANGAN KONTRAK\n",
       "3           80     90              87         100  PERPANJANGAN KONTRAK\n",
       "4           82     89              82         100  PERPANJANGAN KONTRAK\n",
       "..         ...    ...             ...         ...                   ...\n",
       "315         85     91              98         100  PERPANJANGAN KONTRAK\n",
       "316         80     93              84         100  PERPANJANGAN KONTRAK\n",
       "317         70     70              60          70         DIBERHENTIKAN\n",
       "318         71     72              60          60         DIBERHENTIKAN\n",
       "319         90     95              82         100  PERPANJANGAN KONTRAK\n",
       "\n",
       "[320 rows x 5 columns]"
      ]
     },
     "execution_count": 22,
     "metadata": {},
     "output_type": "execute_result"
    }
   ],
   "source": [
    "df"
   ]
  },
  {
   "cell_type": "code",
   "execution_count": null,
   "id": "13a92128",
   "metadata": {},
   "outputs": [],
   "source": []
  },
  {
   "cell_type": "markdown",
   "id": "9c31f9e3",
   "metadata": {},
   "source": [
    "# Split data "
   ]
  },
  {
   "cell_type": "code",
   "execution_count": 23,
   "id": "f9418b60",
   "metadata": {},
   "outputs": [
    {
     "data": {
      "text/html": [
       "<div>\n",
       "<style scoped>\n",
       "    .dataframe tbody tr th:only-of-type {\n",
       "        vertical-align: middle;\n",
       "    }\n",
       "\n",
       "    .dataframe tbody tr th {\n",
       "        vertical-align: top;\n",
       "    }\n",
       "\n",
       "    .dataframe thead th {\n",
       "        text-align: right;\n",
       "    }\n",
       "</style>\n",
       "<table border=\"1\" class=\"dataframe\">\n",
       "  <thead>\n",
       "    <tr style=\"text-align: right;\">\n",
       "      <th></th>\n",
       "      <th>KEHADIRAN</th>\n",
       "      <th>SIKAP</th>\n",
       "      <th>TANGGUNG JAWAB</th>\n",
       "      <th>PENCAPAIAN</th>\n",
       "    </tr>\n",
       "  </thead>\n",
       "  <tbody>\n",
       "    <tr>\n",
       "      <th>0</th>\n",
       "      <td>100</td>\n",
       "      <td>80</td>\n",
       "      <td>90</td>\n",
       "      <td>100</td>\n",
       "    </tr>\n",
       "    <tr>\n",
       "      <th>1</th>\n",
       "      <td>80</td>\n",
       "      <td>93</td>\n",
       "      <td>98</td>\n",
       "      <td>100</td>\n",
       "    </tr>\n",
       "    <tr>\n",
       "      <th>2</th>\n",
       "      <td>84</td>\n",
       "      <td>88</td>\n",
       "      <td>90</td>\n",
       "      <td>100</td>\n",
       "    </tr>\n",
       "    <tr>\n",
       "      <th>3</th>\n",
       "      <td>80</td>\n",
       "      <td>90</td>\n",
       "      <td>87</td>\n",
       "      <td>100</td>\n",
       "    </tr>\n",
       "    <tr>\n",
       "      <th>4</th>\n",
       "      <td>82</td>\n",
       "      <td>89</td>\n",
       "      <td>82</td>\n",
       "      <td>100</td>\n",
       "    </tr>\n",
       "  </tbody>\n",
       "</table>\n",
       "</div>"
      ],
      "text/plain": [
       "   KEHADIRAN  SIKAP  TANGGUNG JAWAB  PENCAPAIAN\n",
       "0        100     80              90         100\n",
       "1         80     93              98         100\n",
       "2         84     88              90         100\n",
       "3         80     90              87         100\n",
       "4         82     89              82         100"
      ]
     },
     "execution_count": 23,
     "metadata": {},
     "output_type": "execute_result"
    }
   ],
   "source": [
    "# X data\n",
    "X = df.drop(\"KEPUTUSAN\", axis=1)\n",
    "X.head()"
   ]
  },
  {
   "cell_type": "code",
   "execution_count": 24,
   "id": "e15cce7d",
   "metadata": {},
   "outputs": [
    {
     "data": {
      "text/plain": [
       "0    PERPANJANGAN KONTRAK\n",
       "1    PERPANJANGAN KONTRAK\n",
       "2    PERPANJANGAN KONTRAK\n",
       "3    PERPANJANGAN KONTRAK\n",
       "4    PERPANJANGAN KONTRAK\n",
       "Name: KEPUTUSAN, dtype: object"
      ]
     },
     "execution_count": 24,
     "metadata": {},
     "output_type": "execute_result"
    }
   ],
   "source": [
    "# y data\n",
    "y = df[\"KEPUTUSAN\"]\n",
    "y.head()"
   ]
  },
  {
   "cell_type": "code",
   "execution_count": 25,
   "id": "573902e8",
   "metadata": {},
   "outputs": [],
   "source": [
    "from sklearn.model_selection import train_test_split\n",
    "X_train, X_test, y_train, y_test = train_test_split(X, y, test_size=0.2, random_state=0)"
   ]
  },
  {
   "cell_type": "code",
   "execution_count": 26,
   "id": "fe5e315f",
   "metadata": {},
   "outputs": [
    {
     "data": {
      "text/plain": [
       "(256, 64)"
      ]
     },
     "execution_count": 26,
     "metadata": {},
     "output_type": "execute_result"
    }
   ],
   "source": [
    "len(X_train), len(X_test)"
   ]
  },
  {
   "cell_type": "code",
   "execution_count": 27,
   "id": "4a424a0c",
   "metadata": {},
   "outputs": [
    {
     "data": {
      "text/plain": [
       "PERPANJANGAN KONTRAK    256\n",
       "DIBERHENTIKAN            64\n",
       "Name: KEPUTUSAN, dtype: int64"
      ]
     },
     "execution_count": 27,
     "metadata": {},
     "output_type": "execute_result"
    }
   ],
   "source": [
    "df.KEPUTUSAN.value_counts()"
   ]
  },
  {
   "cell_type": "code",
   "execution_count": 28,
   "id": "0e2e2486",
   "metadata": {},
   "outputs": [
    {
     "data": {
      "image/png": "[encoded data removed]",
      "text/plain": [
       "<Figure size 576x576 with 1 Axes>"
      ]
     },
     "metadata": {},
     "output_type": "display_data"
    }
   ],
   "source": [
    "fig, ax = plt.subplots(figsize=(8,8))\n",
    "plt.pie(x=df[\"KEPUTUSAN\"].value_counts(),\n",
    "        colors=[\"yellow\",\"pink\"],\n",
    "        labels=[\"PERPANJANGAN KONTRAK\",\"DIBERHENTIKAN\"],\n",
    "        shadow = True,\n",
    "        autopct=\"%1.2f%%\",\n",
    "        explode = (0,0.1)\n",
    "       )\n",
    "plt.show()"
   ]
  },
  {
   "cell_type": "code",
   "execution_count": 29,
   "id": "2d0db9a9",
   "metadata": {},
   "outputs": [],
   "source": [
    "# Scaling the data \n",
    "\n",
    "from sklearn.preprocessing import StandardScaler\n",
    "scaler = StandardScaler()\n",
    "X_train = scaler.fit_transform(X_train)\n",
    "X_test = scaler.transform(X_test)"
   ]
  },
  {
   "cell_type": "code",
   "execution_count": 30,
   "id": "15f0853c",
   "metadata": {},
   "outputs": [
    {
     "data": {
      "text/html": [
       "<style>#sk-container-id-1 {color: black;background-color: white;}#sk-container-id-1 pre{padding: 0;}#sk-container-id-1 div.sk-toggleable {background-color: white;}#sk-container-id-1 label.sk-toggleable__label {cursor: pointer;display: block;width: 100%;margin-bottom: 0;padding: 0.3em;box-sizing: border-box;text-align: center;}#sk-container-id-1 label.sk-toggleable__label-arrow:before {content: \"▸\";float: left;margin-right: 0.25em;color: #696969;}#sk-container-id-1 label.sk-toggleable__label-arrow:hover:before {color: black;}#sk-container-id-1 div.sk-estimator:hover label.sk-toggleable__label-arrow:before {color: black;}#sk-container-id-1 div.sk-toggleable__content {max-height: 0;max-width: 0;overflow: hidden;text-align: left;background-color: #f0f8ff;}#sk-container-id-1 div.sk-toggleable__content pre {margin: 0.2em;color: black;border-radius: 0.25em;background-color: #f0f8ff;}#sk-container-id-1 input.sk-toggleable__control:checked~div.sk-toggleable__content {max-height: 200px;max-width: 100%;overflow: auto;}#sk-container-id-1 input.sk-toggleable__control:checked~label.sk-toggleable__label-arrow:before {content: \"▾\";}#sk-container-id-1 div.sk-estimator input.sk-toggleable__control:checked~label.sk-toggleable__label {background-color: #d4ebff;}#sk-container-id-1 div.sk-label input.sk-toggleable__control:checked~label.sk-toggleable__label {background-color: #d4ebff;}#sk-container-id-1 input.sk-hidden--visually {border: 0;clip: rect(1px 1px 1px 1px);clip: rect(1px, 1px, 1px, 1px);height: 1px;margin: -1px;overflow: hidden;padding: 0;position: absolute;width: 1px;}#sk-container-id-1 div.sk-estimator {font-family: monospace;background-color: #f0f8ff;border: 1px dotted black;border-radius: 0.25em;box-sizing: border-box;margin-bottom: 0.5em;}#sk-container-id-1 div.sk-estimator:hover {background-color: #d4ebff;}#sk-container-id-1 div.sk-parallel-item::after {content: \"\";width: 100%;border-bottom: 1px solid gray;flex-grow: 1;}#sk-container-id-1 div.sk-label:hover label.sk-toggleable__label {background-color: #d4ebff;}#sk-container-id-1 div.sk-serial::before {content: \"\";position: absolute;border-left: 1px solid gray;box-sizing: border-box;top: 0;bottom: 0;left: 50%;z-index: 0;}#sk-container-id-1 div.sk-serial {display: flex;flex-direction: column;align-items: center;background-color: white;padding-right: 0.2em;padding-left: 0.2em;position: relative;}#sk-container-id-1 div.sk-item {position: relative;z-index: 1;}#sk-container-id-1 div.sk-parallel {display: flex;align-items: stretch;justify-content: center;background-color: white;position: relative;}#sk-container-id-1 div.sk-item::before, #sk-container-id-1 div.sk-parallel-item::before {content: \"\";position: absolute;border-left: 1px solid gray;box-sizing: border-box;top: 0;bottom: 0;left: 50%;z-index: -1;}#sk-container-id-1 div.sk-parallel-item {display: flex;flex-direction: column;z-index: 1;position: relative;background-color: white;}#sk-container-id-1 div.sk-parallel-item:first-child::after {align-self: flex-end;width: 50%;}#sk-container-id-1 div.sk-parallel-item:last-child::after {align-self: flex-start;width: 50%;}#sk-container-id-1 div.sk-parallel-item:only-child::after {width: 0;}#sk-container-id-1 div.sk-dashed-wrapped {border: 1px dashed gray;margin: 0 0.4em 0.5em 0.4em;box-sizing: border-box;padding-bottom: 0.4em;background-color: white;}#sk-container-id-1 div.sk-label label {font-family: monospace;font-weight: bold;display: inline-block;line-height: 1.2em;}#sk-container-id-1 div.sk-label-container {text-align: center;}#sk-container-id-1 div.sk-container {/* jupyter's `normalize.less` sets `[hidden] { display: none; }` but bootstrap.min.css set `[hidden] { display: none !important; }` so we also need the `!important` here to be able to override the default hidden behavior on the sphinx rendered scikit-learn.org. See: https://github.com/scikit-learn/scikit-learn/issues/21755 */display: inline-block !important;position: relative;}#sk-container-id-1 div.sk-text-repr-fallback {display: none;}</style><div id=\"sk-container-id-1\" class=\"sk-top-container\"><div class=\"sk-text-repr-fallback\"><pre>GaussianNB()</pre><b>In a Jupyter environment, please rerun this cell to show the HTML representation or trust the notebook. <br />On GitHub, the HTML representation is unable to render, please try loading this page with nbviewer.org.</b></div><div class=\"sk-container\" hidden><div class=\"sk-item\"><div class=\"sk-estimator sk-toggleable\"><input class=\"sk-toggleable__control sk-hidden--visually\" id=\"sk-estimator-id-1\" type=\"checkbox\" checked><label for=\"sk-estimator-id-1\" class=\"sk-toggleable__label sk-toggleable__label-arrow\">GaussianNB</label><div class=\"sk-toggleable__content\"><pre>GaussianNB()</pre></div></div></div></div></div>"
      ],
      "text/plain": [
       "GaussianNB()"
      ]
     },
     "execution_count": 30,
     "metadata": {},
     "output_type": "execute_result"
    }
   ],
   "source": [
    "from sklearn.naive_bayes import GaussianNB\n",
    "nb = GaussianNB()\n",
    "nb.fit(X_train, y_train)"
   ]
  },
  {
   "cell_type": "code",
   "execution_count": 31,
   "id": "444d475f",
   "metadata": {},
   "outputs": [
    {
     "name": "stdout",
     "output_type": "stream",
     "text": [
      "Accuracy obtained by Naive Bayes Classifier : 96.875\n"
     ]
    }
   ],
   "source": [
    "GaussianNBClassifierScore = nb.score(X_test,y_test)\n",
    "print(\"Accuracy obtained by Naive Bayes Classifier :\", GaussianNBClassifierScore*100)"
   ]
  },
  {
   "cell_type": "code",
   "execution_count": 32,
   "id": "9c7b0962",
   "metadata": {},
   "outputs": [
    {
     "name": "stderr",
     "output_type": "stream",
     "text": [
      "findfont: Font family ['Helvetica'] not found. Falling back to DejaVu Sans.\n"
     ]
    },
    {
     "data": {
      "image/png": "[encoded data removed]",
      "text/plain": [
       "<Figure size 432x288 with 2 Axes>"
      ]
     },
     "metadata": {},
     "output_type": "display_data"
    }
   ],
   "source": [
    "from sklearn.metrics import confusion_matrix, classification_report\n",
    "sns.set_style(\"white\")\n",
    "y_pred_nb = nb.predict(X_test)\n",
    "cf_matrix = confusion_matrix(y_test, y_pred_nb)\n",
    "sns.heatmap(cf_matrix, annot=True, cmap=\"Blues_r\")\n",
    "plt.title(\"Confusion Metrix for Naive Bayes Classifier\", fontsize=14, fontname=\"Helvetica\", y=1.03);"
   ]
  },
  {
   "cell_type": "code",
   "execution_count": 33,
   "id": "335906a0",
   "metadata": {},
   "outputs": [
    {
     "name": "stdout",
     "output_type": "stream",
     "text": [
      "                      precision    recall  f1-score   support\n",
      "\n",
      "       DIBERHENTIKAN       0.82      1.00      0.90         9\n",
      "PERPANJANGAN KONTRAK       1.00      0.96      0.98        55\n",
      "\n",
      "            accuracy                           0.97        64\n",
      "           macro avg       0.91      0.98      0.94        64\n",
      "        weighted avg       0.97      0.97      0.97        64\n",
      "\n"
     ]
    }
   ],
   "source": [
    "from sklearn import metrics\n",
    "print(metrics.classification_report(y_test, y_pred_nb));"
   ]
  },
  {
   "cell_type": "code",
   "execution_count": 34,
   "id": "817d5522",
   "metadata": {},
   "outputs": [
    {
     "data": {
      "text/html": [
       "<style>#sk-container-id-2 {color: black;background-color: white;}#sk-container-id-2 pre{padding: 0;}#sk-container-id-2 div.sk-toggleable {background-color: white;}#sk-container-id-2 label.sk-toggleable__label {cursor: pointer;display: block;width: 100%;margin-bottom: 0;padding: 0.3em;box-sizing: border-box;text-align: center;}#sk-container-id-2 label.sk-toggleable__label-arrow:before {content: \"▸\";float: left;margin-right: 0.25em;color: #696969;}#sk-container-id-2 label.sk-toggleable__label-arrow:hover:before {color: black;}#sk-container-id-2 div.sk-estimator:hover label.sk-toggleable__label-arrow:before {color: black;}#sk-container-id-2 div.sk-toggleable__content {max-height: 0;max-width: 0;overflow: hidden;text-align: left;background-color: #f0f8ff;}#sk-container-id-2 div.sk-toggleable__content pre {margin: 0.2em;color: black;border-radius: 0.25em;background-color: #f0f8ff;}#sk-container-id-2 input.sk-toggleable__control:checked~div.sk-toggleable__content {max-height: 200px;max-width: 100%;overflow: auto;}#sk-container-id-2 input.sk-toggleable__control:checked~label.sk-toggleable__label-arrow:before {content: \"▾\";}#sk-container-id-2 div.sk-estimator input.sk-toggleable__control:checked~label.sk-toggleable__label {background-color: #d4ebff;}#sk-container-id-2 div.sk-label input.sk-toggleable__control:checked~label.sk-toggleable__label {background-color: #d4ebff;}#sk-container-id-2 input.sk-hidden--visually {border: 0;clip: rect(1px 1px 1px 1px);clip: rect(1px, 1px, 1px, 1px);height: 1px;margin: -1px;overflow: hidden;padding: 0;position: absolute;width: 1px;}#sk-container-id-2 div.sk-estimator {font-family: monospace;background-color: #f0f8ff;border: 1px dotted black;border-radius: 0.25em;box-sizing: border-box;margin-bottom: 0.5em;}#sk-container-id-2 div.sk-estimator:hover {background-color: #d4ebff;}#sk-container-id-2 div.sk-parallel-item::after {content: \"\";width: 100%;border-bottom: 1px solid gray;flex-grow: 1;}#sk-container-id-2 div.sk-label:hover label.sk-toggleable__label {background-color: #d4ebff;}#sk-container-id-2 div.sk-serial::before {content: \"\";position: absolute;border-left: 1px solid gray;box-sizing: border-box;top: 0;bottom: 0;left: 50%;z-index: 0;}#sk-container-id-2 div.sk-serial {display: flex;flex-direction: column;align-items: center;background-color: white;padding-right: 0.2em;padding-left: 0.2em;position: relative;}#sk-container-id-2 div.sk-item {position: relative;z-index: 1;}#sk-container-id-2 div.sk-parallel {display: flex;align-items: stretch;justify-content: center;background-color: white;position: relative;}#sk-container-id-2 div.sk-item::before, #sk-container-id-2 div.sk-parallel-item::before {content: \"\";position: absolute;border-left: 1px solid gray;box-sizing: border-box;top: 0;bottom: 0;left: 50%;z-index: -1;}#sk-container-id-2 div.sk-parallel-item {display: flex;flex-direction: column;z-index: 1;position: relative;background-color: white;}#sk-container-id-2 div.sk-parallel-item:first-child::after {align-self: flex-end;width: 50%;}#sk-container-id-2 div.sk-parallel-item:last-child::after {align-self: flex-start;width: 50%;}#sk-container-id-2 div.sk-parallel-item:only-child::after {width: 0;}#sk-container-id-2 div.sk-dashed-wrapped {border: 1px dashed gray;margin: 0 0.4em 0.5em 0.4em;box-sizing: border-box;padding-bottom: 0.4em;background-color: white;}#sk-container-id-2 div.sk-label label {font-family: monospace;font-weight: bold;display: inline-block;line-height: 1.2em;}#sk-container-id-2 div.sk-label-container {text-align: center;}#sk-container-id-2 div.sk-container {/* jupyter's `normalize.less` sets `[hidden] { display: none; }` but bootstrap.min.css set `[hidden] { display: none !important; }` so we also need the `!important` here to be able to override the default hidden behavior on the sphinx rendered scikit-learn.org. See: https://github.com/scikit-learn/scikit-learn/issues/21755 */display: inline-block !important;position: relative;}#sk-container-id-2 div.sk-text-repr-fallback {display: none;}</style><div id=\"sk-container-id-2\" class=\"sk-top-container\"><div class=\"sk-text-repr-fallback\"><pre>DecisionTreeClassifier()</pre><b>In a Jupyter environment, please rerun this cell to show the HTML representation or trust the notebook. <br />On GitHub, the HTML representation is unable to render, please try loading this page with nbviewer.org.</b></div><div class=\"sk-container\" hidden><div class=\"sk-item\"><div class=\"sk-estimator sk-toggleable\"><input class=\"sk-toggleable__control sk-hidden--visually\" id=\"sk-estimator-id-2\" type=\"checkbox\" checked><label for=\"sk-estimator-id-2\" class=\"sk-toggleable__label sk-toggleable__label-arrow\">DecisionTreeClassifier</label><div class=\"sk-toggleable__content\"><pre>DecisionTreeClassifier()</pre></div></div></div></div></div>"
      ],
      "text/plain": [
       "DecisionTreeClassifier()"
      ]
     },
     "execution_count": 34,
     "metadata": {},
     "output_type": "execute_result"
    }
   ],
   "source": [
    "from sklearn.tree import DecisionTreeClassifier\n",
    "tree = DecisionTreeClassifier()\n",
    "tree.fit(X_train, y_train)"
   ]
  },
  {
   "cell_type": "code",
   "execution_count": 35,
   "id": "b17985eb",
   "metadata": {},
   "outputs": [
    {
     "name": "stdout",
     "output_type": "stream",
     "text": [
      "Accuracy obtained by Decision Tree Classifier : 98.4375\n"
     ]
    }
   ],
   "source": [
    "DecisionTreeClassifierScore = tree.score(X_test,y_test)\n",
    "print(\"Accuracy obtained by Decision Tree Classifier :\", DecisionTreeClassifierScore*100)"
   ]
  },
  {
   "cell_type": "code",
   "execution_count": 36,
   "id": "5d4dfe8d",
   "metadata": {},
   "outputs": [
    {
     "data": {
      "image/png": "[encoded data removed]",
      "text/plain": [
       "<Figure size 432x288 with 2 Axes>"
      ]
     },
     "metadata": {},
     "output_type": "display_data"
    }
   ],
   "source": [
    "y_pred_tree = tree.predict(X_test)\n",
    "cf_matrix = confusion_matrix(y_test, y_pred_tree)\n",
    "sns.heatmap(cf_matrix, annot=True, cmap=\"Blues_r\")\n",
    "plt.title(\"Confusion Metrix for Decision Tree Classifier\", fontsize=14, fontname=\"Helvetica\", y=1.03);"
   ]
  },
  {
   "cell_type": "code",
   "execution_count": 37,
   "id": "5bd954f6",
   "metadata": {},
   "outputs": [
    {
     "name": "stdout",
     "output_type": "stream",
     "text": [
      "                      precision    recall  f1-score   support\n",
      "\n",
      "       DIBERHENTIKAN       0.90      1.00      0.95         9\n",
      "PERPANJANGAN KONTRAK       1.00      0.98      0.99        55\n",
      "\n",
      "            accuracy                           0.98        64\n",
      "           macro avg       0.95      0.99      0.97        64\n",
      "        weighted avg       0.99      0.98      0.98        64\n",
      "\n"
     ]
    }
   ],
   "source": [
    "from sklearn import metrics\n",
    "print(metrics.classification_report(y_test, y_pred_tree));"
   ]
  },
  {
   "cell_type": "code",
   "execution_count": 38,
   "id": "aa16b244",
   "metadata": {},
   "outputs": [
    {
     "data": {
      "text/html": [
       "<style>#sk-container-id-3 {color: black;background-color: white;}#sk-container-id-3 pre{padding: 0;}#sk-container-id-3 div.sk-toggleable {background-color: white;}#sk-container-id-3 label.sk-toggleable__label {cursor: pointer;display: block;width: 100%;margin-bottom: 0;padding: 0.3em;box-sizing: border-box;text-align: center;}#sk-container-id-3 label.sk-toggleable__label-arrow:before {content: \"▸\";float: left;margin-right: 0.25em;color: #696969;}#sk-container-id-3 label.sk-toggleable__label-arrow:hover:before {color: black;}#sk-container-id-3 div.sk-estimator:hover label.sk-toggleable__label-arrow:before {color: black;}#sk-container-id-3 div.sk-toggleable__content {max-height: 0;max-width: 0;overflow: hidden;text-align: left;background-color: #f0f8ff;}#sk-container-id-3 div.sk-toggleable__content pre {margin: 0.2em;color: black;border-radius: 0.25em;background-color: #f0f8ff;}#sk-container-id-3 input.sk-toggleable__control:checked~div.sk-toggleable__content {max-height: 200px;max-width: 100%;overflow: auto;}#sk-container-id-3 input.sk-toggleable__control:checked~label.sk-toggleable__label-arrow:before {content: \"▾\";}#sk-container-id-3 div.sk-estimator input.sk-toggleable__control:checked~label.sk-toggleable__label {background-color: #d4ebff;}#sk-container-id-3 div.sk-label input.sk-toggleable__control:checked~label.sk-toggleable__label {background-color: #d4ebff;}#sk-container-id-3 input.sk-hidden--visually {border: 0;clip: rect(1px 1px 1px 1px);clip: rect(1px, 1px, 1px, 1px);height: 1px;margin: -1px;overflow: hidden;padding: 0;position: absolute;width: 1px;}#sk-container-id-3 div.sk-estimator {font-family: monospace;background-color: #f0f8ff;border: 1px dotted black;border-radius: 0.25em;box-sizing: border-box;margin-bottom: 0.5em;}#sk-container-id-3 div.sk-estimator:hover {background-color: #d4ebff;}#sk-container-id-3 div.sk-parallel-item::after {content: \"\";width: 100%;border-bottom: 1px solid gray;flex-grow: 1;}#sk-container-id-3 div.sk-label:hover label.sk-toggleable__label {background-color: #d4ebff;}#sk-container-id-3 div.sk-serial::before {content: \"\";position: absolute;border-left: 1px solid gray;box-sizing: border-box;top: 0;bottom: 0;left: 50%;z-index: 0;}#sk-container-id-3 div.sk-serial {display: flex;flex-direction: column;align-items: center;background-color: white;padding-right: 0.2em;padding-left: 0.2em;position: relative;}#sk-container-id-3 div.sk-item {position: relative;z-index: 1;}#sk-container-id-3 div.sk-parallel {display: flex;align-items: stretch;justify-content: center;background-color: white;position: relative;}#sk-container-id-3 div.sk-item::before, #sk-container-id-3 div.sk-parallel-item::before {content: \"\";position: absolute;border-left: 1px solid gray;box-sizing: border-box;top: 0;bottom: 0;left: 50%;z-index: -1;}#sk-container-id-3 div.sk-parallel-item {display: flex;flex-direction: column;z-index: 1;position: relative;background-color: white;}#sk-container-id-3 div.sk-parallel-item:first-child::after {align-self: flex-end;width: 50%;}#sk-container-id-3 div.sk-parallel-item:last-child::after {align-self: flex-start;width: 50%;}#sk-container-id-3 div.sk-parallel-item:only-child::after {width: 0;}#sk-container-id-3 div.sk-dashed-wrapped {border: 1px dashed gray;margin: 0 0.4em 0.5em 0.4em;box-sizing: border-box;padding-bottom: 0.4em;background-color: white;}#sk-container-id-3 div.sk-label label {font-family: monospace;font-weight: bold;display: inline-block;line-height: 1.2em;}#sk-container-id-3 div.sk-label-container {text-align: center;}#sk-container-id-3 div.sk-container {/* jupyter's `normalize.less` sets `[hidden] { display: none; }` but bootstrap.min.css set `[hidden] { display: none !important; }` so we also need the `!important` here to be able to override the default hidden behavior on the sphinx rendered scikit-learn.org. See: https://github.com/scikit-learn/scikit-learn/issues/21755 */display: inline-block !important;position: relative;}#sk-container-id-3 div.sk-text-repr-fallback {display: none;}</style><div id=\"sk-container-id-3\" class=\"sk-top-container\"><div class=\"sk-text-repr-fallback\"><pre>KNeighborsClassifier()</pre><b>In a Jupyter environment, please rerun this cell to show the HTML representation or trust the notebook. <br />On GitHub, the HTML representation is unable to render, please try loading this page with nbviewer.org.</b></div><div class=\"sk-container\" hidden><div class=\"sk-item\"><div class=\"sk-estimator sk-toggleable\"><input class=\"sk-toggleable__control sk-hidden--visually\" id=\"sk-estimator-id-3\" type=\"checkbox\" checked><label for=\"sk-estimator-id-3\" class=\"sk-toggleable__label sk-toggleable__label-arrow\">KNeighborsClassifier</label><div class=\"sk-toggleable__content\"><pre>KNeighborsClassifier()</pre></div></div></div></div></div>"
      ],
      "text/plain": [
       "KNeighborsClassifier()"
      ]
     },
     "execution_count": 38,
     "metadata": {},
     "output_type": "execute_result"
    }
   ],
   "source": [
    "from sklearn.neighbors import KNeighborsClassifier\n",
    "knn = KNeighborsClassifier()\n",
    "knn.fit(X_train, y_train)"
   ]
  },
  {
   "cell_type": "code",
   "execution_count": 39,
   "id": "62994039",
   "metadata": {},
   "outputs": [
    {
     "name": "stdout",
     "output_type": "stream",
     "text": [
      "Accuracy obtained by K Neighbors Classifier : 100.0\n"
     ]
    }
   ],
   "source": [
    "KNeighborsClassifierScore = knn.score(X_test, y_test)\n",
    "print(\"Accuracy obtained by K Neighbors Classifier :\", KNeighborsClassifierScore*100)"
   ]
  },
  {
   "cell_type": "code",
   "execution_count": 40,
   "id": "cc86dd10",
   "metadata": {},
   "outputs": [
    {
     "data": {
      "image/png": "[encoded data removed]",
      "text/plain": [
       "<Figure size 432x288 with 2 Axes>"
      ]
     },
     "metadata": {},
     "output_type": "display_data"
    }
   ],
   "source": [
    "# Confustion Matrix \n",
    "\n",
    "y_pred_knn = knn.predict(X_test)\n",
    "cf_matrix = confusion_matrix(y_test, y_pred_knn)\n",
    "sns.heatmap(cf_matrix, annot=True, cmap=\"Blues_r\")\n",
    "plt.title(\"Confusion Matrix for K Neighbors Classifier\", fontsize=14, fontname=\"Helvetica\", y=1.03);"
   ]
  },
  {
   "cell_type": "code",
   "execution_count": 41,
   "id": "44f6be6d",
   "metadata": {
    "scrolled": true
   },
   "outputs": [
    {
     "name": "stdout",
     "output_type": "stream",
     "text": [
      "                      precision    recall  f1-score   support\n",
      "\n",
      "       DIBERHENTIKAN       1.00      1.00      1.00         9\n",
      "PERPANJANGAN KONTRAK       1.00      1.00      1.00        55\n",
      "\n",
      "            accuracy                           1.00        64\n",
      "           macro avg       1.00      1.00      1.00        64\n",
      "        weighted avg       1.00      1.00      1.00        64\n",
      "\n"
     ]
    }
   ],
   "source": [
    "print(metrics.classification_report(y_test,y_pred_knn))"
   ]
  },
  {
   "cell_type": "code",
   "execution_count": 42,
   "id": "1e50181e",
   "metadata": {},
   "outputs": [
    {
     "data": {
      "text/plain": [
       "181    PERPANJANGAN KONTRAK\n",
       "258    PERPANJANGAN KONTRAK\n",
       "15     PERPANJANGAN KONTRAK\n",
       "65     PERPANJANGAN KONTRAK\n",
       "216    PERPANJANGAN KONTRAK\n",
       "               ...         \n",
       "17     PERPANJANGAN KONTRAK\n",
       "1      PERPANJANGAN KONTRAK\n",
       "8      PERPANJANGAN KONTRAK\n",
       "150           DIBERHENTIKAN\n",
       "206           DIBERHENTIKAN\n",
       "Name: KEPUTUSAN, Length: 64, dtype: object"
      ]
     },
     "execution_count": 42,
     "metadata": {},
     "output_type": "execute_result"
    }
   ],
   "source": [
    "y_test"
   ]
  },
  {
   "cell_type": "code",
   "execution_count": 43,
   "id": "6fb3732c",
   "metadata": {},
   "outputs": [
    {
     "data": {
      "text/plain": [
       "209           DIBERHENTIKAN\n",
       "140    PERPANJANGAN KONTRAK\n",
       "217    PERPANJANGAN KONTRAK\n",
       "194    PERPANJANGAN KONTRAK\n",
       "5      PERPANJANGAN KONTRAK\n",
       "               ...         \n",
       "251    PERPANJANGAN KONTRAK\n",
       "192    PERPANJANGAN KONTRAK\n",
       "117    PERPANJANGAN KONTRAK\n",
       "47     PERPANJANGAN KONTRAK\n",
       "172    PERPANJANGAN KONTRAK\n",
       "Name: KEPUTUSAN, Length: 256, dtype: object"
      ]
     },
     "execution_count": 43,
     "metadata": {},
     "output_type": "execute_result"
    }
   ],
   "source": [
    "y_train"
   ]
  },
  {
   "cell_type": "code",
   "execution_count": 44,
   "id": "878679c1",
   "metadata": {},
   "outputs": [
    {
     "data": {
      "text/plain": [
       "KEHADIRAN                           76\n",
       "SIKAP                               71\n",
       "TANGGUNG JAWAB                      98\n",
       "PENCAPAIAN                         100\n",
       "KEPUTUSAN         PERPANJANGAN KONTRAK\n",
       "Name: 5, dtype: object"
      ]
     },
     "execution_count": 44,
     "metadata": {},
     "output_type": "execute_result"
    }
   ],
   "source": [
    "x = df.iloc[5,:7]\n",
    "x"
   ]
  },
  {
   "cell_type": "code",
   "execution_count": 45,
   "id": "15a806a6",
   "metadata": {},
   "outputs": [
    {
     "data": {
      "text/plain": [
       "((256, 4), (64, 4), (256,), (64,))"
      ]
     },
     "execution_count": 45,
     "metadata": {},
     "output_type": "execute_result"
    }
   ],
   "source": [
    "from sklearn.model_selection import train_test_split\n",
    "x_train, x_test, y_train, y_test = train_test_split(X, y, test_size = 0.2,random_state = 0)\n",
    "x_train.shape, x_test.shape, y_train.shape, y_test.shape"
   ]
  },
  {
   "cell_type": "code",
   "execution_count": 46,
   "id": "7d35e89a",
   "metadata": {},
   "outputs": [
    {
     "data": {
      "text/html": [
       "<style>#sk-container-id-4 {color: black;background-color: white;}#sk-container-id-4 pre{padding: 0;}#sk-container-id-4 div.sk-toggleable {background-color: white;}#sk-container-id-4 label.sk-toggleable__label {cursor: pointer;display: block;width: 100%;margin-bottom: 0;padding: 0.3em;box-sizing: border-box;text-align: center;}#sk-container-id-4 label.sk-toggleable__label-arrow:before {content: \"▸\";float: left;margin-right: 0.25em;color: #696969;}#sk-container-id-4 label.sk-toggleable__label-arrow:hover:before {color: black;}#sk-container-id-4 div.sk-estimator:hover label.sk-toggleable__label-arrow:before {color: black;}#sk-container-id-4 div.sk-toggleable__content {max-height: 0;max-width: 0;overflow: hidden;text-align: left;background-color: #f0f8ff;}#sk-container-id-4 div.sk-toggleable__content pre {margin: 0.2em;color: black;border-radius: 0.25em;background-color: #f0f8ff;}#sk-container-id-4 input.sk-toggleable__control:checked~div.sk-toggleable__content {max-height: 200px;max-width: 100%;overflow: auto;}#sk-container-id-4 input.sk-toggleable__control:checked~label.sk-toggleable__label-arrow:before {content: \"▾\";}#sk-container-id-4 div.sk-estimator input.sk-toggleable__control:checked~label.sk-toggleable__label {background-color: #d4ebff;}#sk-container-id-4 div.sk-label input.sk-toggleable__control:checked~label.sk-toggleable__label {background-color: #d4ebff;}#sk-container-id-4 input.sk-hidden--visually {border: 0;clip: rect(1px 1px 1px 1px);clip: rect(1px, 1px, 1px, 1px);height: 1px;margin: -1px;overflow: hidden;padding: 0;position: absolute;width: 1px;}#sk-container-id-4 div.sk-estimator {font-family: monospace;background-color: #f0f8ff;border: 1px dotted black;border-radius: 0.25em;box-sizing: border-box;margin-bottom: 0.5em;}#sk-container-id-4 div.sk-estimator:hover {background-color: #d4ebff;}#sk-container-id-4 div.sk-parallel-item::after {content: \"\";width: 100%;border-bottom: 1px solid gray;flex-grow: 1;}#sk-container-id-4 div.sk-label:hover label.sk-toggleable__label {background-color: #d4ebff;}#sk-container-id-4 div.sk-serial::before {content: \"\";position: absolute;border-left: 1px solid gray;box-sizing: border-box;top: 0;bottom: 0;left: 50%;z-index: 0;}#sk-container-id-4 div.sk-serial {display: flex;flex-direction: column;align-items: center;background-color: white;padding-right: 0.2em;padding-left: 0.2em;position: relative;}#sk-container-id-4 div.sk-item {position: relative;z-index: 1;}#sk-container-id-4 div.sk-parallel {display: flex;align-items: stretch;justify-content: center;background-color: white;position: relative;}#sk-container-id-4 div.sk-item::before, #sk-container-id-4 div.sk-parallel-item::before {content: \"\";position: absolute;border-left: 1px solid gray;box-sizing: border-box;top: 0;bottom: 0;left: 50%;z-index: -1;}#sk-container-id-4 div.sk-parallel-item {display: flex;flex-direction: column;z-index: 1;position: relative;background-color: white;}#sk-container-id-4 div.sk-parallel-item:first-child::after {align-self: flex-end;width: 50%;}#sk-container-id-4 div.sk-parallel-item:last-child::after {align-self: flex-start;width: 50%;}#sk-container-id-4 div.sk-parallel-item:only-child::after {width: 0;}#sk-container-id-4 div.sk-dashed-wrapped {border: 1px dashed gray;margin: 0 0.4em 0.5em 0.4em;box-sizing: border-box;padding-bottom: 0.4em;background-color: white;}#sk-container-id-4 div.sk-label label {font-family: monospace;font-weight: bold;display: inline-block;line-height: 1.2em;}#sk-container-id-4 div.sk-label-container {text-align: center;}#sk-container-id-4 div.sk-container {/* jupyter's `normalize.less` sets `[hidden] { display: none; }` but bootstrap.min.css set `[hidden] { display: none !important; }` so we also need the `!important` here to be able to override the default hidden behavior on the sphinx rendered scikit-learn.org. See: https://github.com/scikit-learn/scikit-learn/issues/21755 */display: inline-block !important;position: relative;}#sk-container-id-4 div.sk-text-repr-fallback {display: none;}</style><div id=\"sk-container-id-4\" class=\"sk-top-container\"><div class=\"sk-text-repr-fallback\"><pre>KNeighborsClassifier(metric=&#x27;euclidean&#x27;, n_neighbors=3)</pre><b>In a Jupyter environment, please rerun this cell to show the HTML representation or trust the notebook. <br />On GitHub, the HTML representation is unable to render, please try loading this page with nbviewer.org.</b></div><div class=\"sk-container\" hidden><div class=\"sk-item\"><div class=\"sk-estimator sk-toggleable\"><input class=\"sk-toggleable__control sk-hidden--visually\" id=\"sk-estimator-id-4\" type=\"checkbox\" checked><label for=\"sk-estimator-id-4\" class=\"sk-toggleable__label sk-toggleable__label-arrow\">KNeighborsClassifier</label><div class=\"sk-toggleable__content\"><pre>KNeighborsClassifier(metric=&#x27;euclidean&#x27;, n_neighbors=3)</pre></div></div></div></div></div>"
      ],
      "text/plain": [
       "KNeighborsClassifier(metric='euclidean', n_neighbors=3)"
      ]
     },
     "execution_count": 46,
     "metadata": {},
     "output_type": "execute_result"
    }
   ],
   "source": [
    "from sklearn.neighbors import KNeighborsClassifier\n",
    "klasifikasi=KNeighborsClassifier(n_neighbors=3,metric=\"euclidean\")\n",
    "klasifikasi.fit(x_train,y_train)"
   ]
  },
  {
   "cell_type": "code",
   "execution_count": 47,
   "id": "c0ff7c84",
   "metadata": {},
   "outputs": [
    {
     "name": "stdout",
     "output_type": "stream",
     "text": [
      "Akurasi:  1.0\n"
     ]
    }
   ],
   "source": [
    "from sklearn import metrics\n",
    "ypred=klasifikasi.predict(x_test)\n",
    "print(\"Akurasi: \", metrics.accuracy_score(ypred,y_test))"
   ]
  },
  {
   "cell_type": "code",
   "execution_count": 48,
   "id": "968c8207",
   "metadata": {},
   "outputs": [
    {
     "data": {
      "text/plain": [
       "array(['PERPANJANGAN KONTRAK', 'PERPANJANGAN KONTRAK',\n",
       "       'PERPANJANGAN KONTRAK', 'PERPANJANGAN KONTRAK',\n",
       "       'PERPANJANGAN KONTRAK', 'PERPANJANGAN KONTRAK',\n",
       "       'PERPANJANGAN KONTRAK', 'PERPANJANGAN KONTRAK',\n",
       "       'PERPANJANGAN KONTRAK', 'PERPANJANGAN KONTRAK', 'DIBERHENTIKAN',\n",
       "       'PERPANJANGAN KONTRAK', 'PERPANJANGAN KONTRAK',\n",
       "       'PERPANJANGAN KONTRAK', 'PERPANJANGAN KONTRAK',\n",
       "       'PERPANJANGAN KONTRAK', 'PERPANJANGAN KONTRAK',\n",
       "       'PERPANJANGAN KONTRAK', 'PERPANJANGAN KONTRAK', 'DIBERHENTIKAN',\n",
       "       'PERPANJANGAN KONTRAK', 'PERPANJANGAN KONTRAK',\n",
       "       'PERPANJANGAN KONTRAK', 'PERPANJANGAN KONTRAK',\n",
       "       'PERPANJANGAN KONTRAK', 'DIBERHENTIKAN', 'PERPANJANGAN KONTRAK',\n",
       "       'PERPANJANGAN KONTRAK', 'PERPANJANGAN KONTRAK', 'DIBERHENTIKAN',\n",
       "       'PERPANJANGAN KONTRAK', 'PERPANJANGAN KONTRAK',\n",
       "       'PERPANJANGAN KONTRAK', 'DIBERHENTIKAN', 'PERPANJANGAN KONTRAK',\n",
       "       'DIBERHENTIKAN', 'PERPANJANGAN KONTRAK', 'PERPANJANGAN KONTRAK',\n",
       "       'DIBERHENTIKAN', 'PERPANJANGAN KONTRAK', 'PERPANJANGAN KONTRAK',\n",
       "       'PERPANJANGAN KONTRAK', 'PERPANJANGAN KONTRAK',\n",
       "       'PERPANJANGAN KONTRAK', 'PERPANJANGAN KONTRAK',\n",
       "       'PERPANJANGAN KONTRAK', 'PERPANJANGAN KONTRAK',\n",
       "       'PERPANJANGAN KONTRAK', 'PERPANJANGAN KONTRAK',\n",
       "       'PERPANJANGAN KONTRAK', 'PERPANJANGAN KONTRAK',\n",
       "       'PERPANJANGAN KONTRAK', 'PERPANJANGAN KONTRAK',\n",
       "       'PERPANJANGAN KONTRAK', 'PERPANJANGAN KONTRAK',\n",
       "       'PERPANJANGAN KONTRAK', 'PERPANJANGAN KONTRAK',\n",
       "       'PERPANJANGAN KONTRAK', 'PERPANJANGAN KONTRAK',\n",
       "       'PERPANJANGAN KONTRAK', 'PERPANJANGAN KONTRAK',\n",
       "       'PERPANJANGAN KONTRAK', 'DIBERHENTIKAN', 'DIBERHENTIKAN'],\n",
       "      dtype=object)"
      ]
     },
     "execution_count": 48,
     "metadata": {},
     "output_type": "execute_result"
    }
   ],
   "source": [
    "ypred"
   ]
  },
  {
   "cell_type": "code",
   "execution_count": 49,
   "id": "a8b9df61",
   "metadata": {},
   "outputs": [
    {
     "name": "stdout",
     "output_type": "stream",
     "text": [
      "Klasifikasi untuk data baru ini adalah:  ['PERPANJANGAN KONTRAK']\n"
     ]
    },
    {
     "name": "stderr",
     "output_type": "stream",
     "text": [
      "C:\\Users\\user\\anaconda3\\lib\\site-packages\\sklearn\\base.py:409: UserWarning: X does not have valid feature names, but KNeighborsClassifier was fitted with feature names\n",
      "  warnings.warn(\n"
     ]
    }
   ],
   "source": [
    "prediksi=klasifikasi.predict([[80,100,90,100]])\n",
    "print(\"Klasifikasi untuk data baru ini adalah: \",prediksi)"
   ]
  },
  {
   "cell_type": "code",
   "execution_count": 50,
   "id": "fa60b0da",
   "metadata": {},
   "outputs": [
    {
     "name": "stdout",
     "output_type": "stream",
     "text": [
      "Klasifikasi untuk data baru ini adalah:  ['DIBERHENTIKAN']\n"
     ]
    },
    {
     "name": "stderr",
     "output_type": "stream",
     "text": [
      "C:\\Users\\user\\anaconda3\\lib\\site-packages\\sklearn\\base.py:409: UserWarning: X does not have valid feature names, but KNeighborsClassifier was fitted with feature names\n",
      "  warnings.warn(\n"
     ]
    }
   ],
   "source": [
    "prediksi=klasifikasi.predict([[50,50,50,50]])\n",
    "print(\"Klasifikasi untuk data baru ini adalah: \",prediksi)"
   ]
  },
  {
   "cell_type": "code",
   "execution_count": 5,
   "id": "7fa745dd",
   "metadata": {},
   "outputs": [
    {
     "ename": "NameError",
     "evalue": "name 'klasifikasi' is not defined",
     "output_type": "error",
     "traceback": [
      "\u001b[1;31m---------------------------------------------------------------------------\u001b[0m",
      "\u001b[1;31mNameError\u001b[0m                                 Traceback (most recent call last)",
      "Input \u001b[1;32mIn [5]\u001b[0m, in \u001b[0;36m<cell line: 1>\u001b[1;34m()\u001b[0m\n\u001b[1;32m----> 1\u001b[0m pickle\u001b[38;5;241m.\u001b[39mdump(\u001b[43mklasifikasi\u001b[49m, \u001b[38;5;28mopen\u001b[39m(\u001b[38;5;124m\"\u001b[39m\u001b[38;5;124mmodel.pkl\u001b[39m\u001b[38;5;124m\"\u001b[39m, \u001b[38;5;124m\"\u001b[39m\u001b[38;5;124mwb\u001b[39m\u001b[38;5;124m\"\u001b[39m))\n",
      "\u001b[1;31mNameError\u001b[0m: name 'klasifikasi' is not defined"
     ]
    }
   ],
   "source": [
    "pickle.dump(klasifikasi, open(\"model.pkl\", \"wb\"))"
   ]
  },
  {
   "cell_type": "code",
   "execution_count": null,
   "id": "fc99aa24",
   "metadata": {},
   "outputs": [],
   "source": []
  }
 ],
 "metadata": {
  "celltoolbar": "Raw Cell Format",
  "kernelspec": {
   "display_name": "Python 3 (ipykernel)",
   "language": "python",
   "name": "python3"
  },
  "language_info": {
   "codemirror_mode": {
    "name": "ipython",
    "version": 3
   },
   "file_extension": ".py",
   "mimetype": "text/x-python",
   "name": "python",
   "nbconvert_exporter": "python",
   "pygments_lexer": "ipython3",
   "version": "3.9.12"
  }
 },
 "nbformat": 4,
 "nbformat_minor": 5
}
